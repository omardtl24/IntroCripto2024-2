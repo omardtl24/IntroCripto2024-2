{
 "cells": [
  {
   "cell_type": "code",
   "execution_count": 11,
   "metadata": {},
   "outputs": [],
   "source": [
    "def splitEntry(text='' , size = 5):\n",
    "    text = ''.join(text.split(' '))\n",
    "    i=0\n",
    "    f = []\n",
    "    while i<len(text):\n",
    "        f.append(text[i:i+size])\n",
    "        i+=size\n",
    "    return f\n"
   ]
  },
  {
   "cell_type": "code",
   "execution_count": 13,
   "metadata": {},
   "outputs": [],
   "source": [
    "def cipherCesar(text = '', k = 3):\n",
    "    text = ''.join(text.split(' '))\n",
    "    text = text.upper()\n",
    "    cipherText = ''\n",
    "    for letter in text:\n",
    "        v = ord(letter)-65\n",
    "        cipherText += chr(((v+k)%26)+65)\n",
    "    return cipherText\n",
    "\n",
    "def decipherCesar(text = '', k = 3):\n",
    "    text = ''.join(text.split(' '))\n",
    "    text = text.upper()\n",
    "    cipherText = ''\n",
    "    for letter in text:\n",
    "        v = ord(letter)-65\n",
    "        cipherText += chr(((v-k)%26)+65)\n",
    "    return cipherText"
   ]
  },
  {
   "cell_type": "code",
   "execution_count": 16,
   "metadata": {},
   "outputs": [
    {
     "data": {
      "text/plain": [
       "'ZHZLO ODWWD FNDWG DZQWK URXJK WKHOH IWIOD QN'"
      ]
     },
     "execution_count": 16,
     "metadata": {},
     "output_type": "execute_result"
    }
   ],
   "source": [
    "text = 'we will attack at dawn through the left flank'\n",
    "f = splitEntry(text)\n",
    "r = []\n",
    "for s in f: r.append(cipherCesar(text = s, k = 3))\n",
    "' '.join(r)"
   ]
  },
  {
   "cell_type": "code",
   "execution_count": 14,
   "metadata": {},
   "outputs": [
    {
     "data": {
      "text/plain": [
       "'THISI SEXTR EMELY INSEC UREEN CRYPT IONDO NOTUS EITTO PROTE CTVAL UABLE INFOR MATIO N'"
      ]
     },
     "execution_count": 14,
     "metadata": {},
     "output_type": "execute_result"
    }
   ],
   "source": [
    "text = 'WKLVL VHAWU HPHOB LQVHF XUHHQ FUBSW LRQGR QRWXV HLWWR SURWH FWYDO XDEOH LQIRU PDWLR Q'\n",
    "f = splitEntry(text)\n",
    "r = []\n",
    "for s in f: r.append(decipherCesar(text = s, k = 3))\n",
    "' '.join(r)"
   ]
  },
  {
   "cell_type": "code",
   "execution_count": 15,
   "metadata": {},
   "outputs": [
    {
     "data": {
      "text/plain": [
       "'ITISC LAIME DTHEE ARLIE STKNO WNREF ERENC ETOTH ISTYP EOFCI PHERI SINTH EKAMA SUTRA WHICH SAYSW OMENS HOULD LEARN THEAR TOFSE CRETW RITIN GTOCO NCEAL THEIR LIASO NS'"
      ]
     },
     "execution_count": 15,
     "metadata": {},
     "output_type": "execute_result"
    }
   ],
   "source": [
    "text = 'LWLVF ODLPH GWKHH DUOLH VWNQR ZQUHI HUHQF HWRWK LVWBS HRIFL SKHUL VLQWK HNDPD VXWUD ZKLFK VDBVZ RPHQV KRXOG OHDUQ WKHDU WRIVH FUHWZ ULWLQ JWRFR QFHDO WKHLU OLDVR QV'\n",
    "f = splitEntry(text)\n",
    "r = []\n",
    "for s in f: r.append(decipherCesar(text = s, k = 3))\n",
    "' '.join(r)"
   ]
  }
 ],
 "metadata": {
  "kernelspec": {
   "display_name": "Python 3",
   "language": "python",
   "name": "python3"
  },
  "language_info": {
   "codemirror_mode": {
    "name": "ipython",
    "version": 3
   },
   "file_extension": ".py",
   "mimetype": "text/x-python",
   "name": "python",
   "nbconvert_exporter": "python",
   "pygments_lexer": "ipython3",
   "version": "3.10.11"
  }
 },
 "nbformat": 4,
 "nbformat_minor": 2
}
