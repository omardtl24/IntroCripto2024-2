{
 "cells": [
  {
   "cell_type": "code",
   "execution_count": 65,
   "metadata": {},
   "outputs": [],
   "source": [
    "def splitEntry(text='' , size = 5):\n",
    "    text = ''.join(text.split(' '))\n",
    "    i=0\n",
    "    f = []\n",
    "    while i<len(text):\n",
    "        f.append(text[i:i+size])\n",
    "        i+=size\n",
    "    return f\n"
   ]
  },
  {
   "cell_type": "code",
   "execution_count": 66,
   "metadata": {},
   "outputs": [],
   "source": [
    "def cipherCesar(text = '', k = 3):\n",
    "    text = text.upper()\n",
    "    cipherText = ''\n",
    "    for letter in text:\n",
    "        if letter!=' ':\n",
    "            v = ord(letter)-65\n",
    "            cipherText += chr(((v+k)%26)+65)\n",
    "        else: cipherText += letter\n",
    "    return cipherText"
   ]
  },
  {
   "cell_type": "code",
   "execution_count": 67,
   "metadata": {},
   "outputs": [
    {
     "data": {
      "text/plain": [
       "'UHWXU QWRUR PH'"
      ]
     },
     "execution_count": 67,
     "metadata": {},
     "output_type": "execute_result"
    }
   ],
   "source": [
    "text = 'Return to Rome'\n",
    "f = splitEntry(text)\n",
    "r = []\n",
    "for s in f: r.append(cipherCesar(text = s, k = 3))\n",
    "' '.join(r)"
   ]
  },
  {
   "cell_type": "code",
   "execution_count": 68,
   "metadata": {},
   "outputs": [
    {
     "data": {
      "text/plain": [
       "'UHWXUQ WR URPH'"
      ]
     },
     "execution_count": 68,
     "metadata": {},
     "output_type": "execute_result"
    }
   ],
   "source": [
    "text = 'Return to Rome'\n",
    "cipherCesar(text=text , k=3)"
   ]
  },
  {
   "cell_type": "code",
   "execution_count": 69,
   "metadata": {},
   "outputs": [],
   "source": [
    "def decipherCesar(cipherText = '', k = 3):\n",
    "    cipherText = cipherText.upper()\n",
    "    text = ''\n",
    "    for letter in cipherText:\n",
    "        if letter!=' ':\n",
    "            v = ord(letter)-65\n",
    "            text += chr(((v-k)%26)+65)\n",
    "        else: text += letter\n",
    "    return text"
   ]
  },
  {
   "cell_type": "code",
   "execution_count": 70,
   "metadata": {},
   "outputs": [
    {
     "data": {
      "text/plain": [
       "'RETUR NTORO ME'"
      ]
     },
     "execution_count": 70,
     "metadata": {},
     "output_type": "execute_result"
    }
   ],
   "source": [
    "ciphertext = 'UHWXUQ WR URPH'\n",
    "f = splitEntry(ciphertext)\n",
    "r = []\n",
    "for s in f: r.append(decipherCesar(cipherText = s, k = 3))\n",
    "' '.join(r)"
   ]
  },
  {
   "cell_type": "code",
   "execution_count": 71,
   "metadata": {},
   "outputs": [
    {
     "data": {
      "text/plain": [
       "'RETURN TO ROME'"
      ]
     },
     "execution_count": 71,
     "metadata": {},
     "output_type": "execute_result"
    }
   ],
   "source": [
    "ciphertext = 'UHWXUQ WR URPH'\n",
    "decipherCesar(cipherText = ciphertext, k = 3)"
   ]
  }
 ],
 "metadata": {
  "kernelspec": {
   "display_name": "Python 3",
   "language": "python",
   "name": "python3"
  },
  "language_info": {
   "codemirror_mode": {
    "name": "ipython",
    "version": 3
   },
   "file_extension": ".py",
   "mimetype": "text/x-python",
   "name": "python",
   "nbconvert_exporter": "python",
   "pygments_lexer": "ipython3",
   "version": "3.10.11"
  }
 },
 "nbformat": 4,
 "nbformat_minor": 2
}
