{
  "cells": [
    {
      "cell_type": "markdown",
      "metadata": {
        "id": "CnTerGm-gK7D"
      },
      "source": [
        "# Taller OTP\n",
        "\n",
        "**Estudiante:** Omar David Toledo Leguizamón"
      ]
    },
    {
      "cell_type": "markdown",
      "metadata": {
        "id": "3CA-jcWbgK7E"
      },
      "source": [
        "Implementar el algoritmo One Time Pad (OTP) en Python.\n",
        "\n",
        "1. El algoritmo debe recibir como entrada para cifrar:\n",
        "* El mensaje en texto claro\n",
        "* La llave\n",
        "2. Para decifrar:\n",
        "* Mensaje cifrado\n",
        "* La llave"
      ]
    },
    {
      "cell_type": "markdown",
      "metadata": {
        "id": "J-o5kcuQgK7E"
      },
      "source": [
        "## Desarrollo"
      ]
    },
    {
      "cell_type": "markdown",
      "metadata": {
        "id": "iISgFV0lgK7E"
      },
      "source": [
        "Primero definimos una estrategia para convertir cada letra a su equivalente numérico. Para hecho, aprovecharemos la función `ord` de python para tener el equivalente numerico de nuestro caracter. Adicionalmente, se convertira la letra a mayuscula para evitar inconvenientes y manejar solo 26 caracteres."
      ]
    },
    {
      "cell_type": "code",
      "execution_count": 12,
      "metadata": {
        "id": "j5tisZfBgK7F"
      },
      "outputs": [],
      "source": [
        "def numValue(chr):\n",
        "    if len(chr)==1:\n",
        "        #65 es el valor de A; asi se obliga a que el conteo inicie en 0\n",
        "        return ord(chr.upper())-65\n",
        "    else:\n",
        "        #Si la cadena es más grande a 1 caracter, se aplica el valor a cada una de estas\n",
        "        return [numValue(c) for c in chr]"
      ]
    },
    {
      "cell_type": "markdown",
      "metadata": {
        "id": "u3HvPXJMgK7F"
      },
      "source": [
        "Posteriormente, realizamos una función que dada la representación numérica de una palabra, se pueda recuperar su contenido en caracteres en mayuscula"
      ]
    },
    {
      "cell_type": "code",
      "execution_count": 13,
      "metadata": {
        "id": "B2IOb7eNgK7G"
      },
      "outputs": [],
      "source": [
        "def chrValue(num):\n",
        "    if type(num)==int:\n",
        "        return chr(num+65)\n",
        "    elif type(num)==list:\n",
        "        return ''.join([chrValue(n) for n in num])"
      ]
    },
    {
      "cell_type": "markdown",
      "metadata": {
        "id": "sX2IRHWUgK7G"
      },
      "source": [
        "Podemos ver que funciona para la cadena de entreda *hello*"
      ]
    },
    {
      "cell_type": "code",
      "execution_count": 14,
      "metadata": {
        "colab": {
          "base_uri": "https://localhost:8080/"
        },
        "id": "lWkQ_oazgK7G",
        "outputId": "e4373775-42a5-446e-8560-2cf58b70f348"
      },
      "outputs": [
        {
          "output_type": "stream",
          "name": "stdout",
          "text": [
            "Entrada: hello\n",
            "Representación numérica: [7, 4, 11, 11, 14]\n",
            "Recuperación de la entrada: HELLO\n"
          ]
        }
      ],
      "source": [
        "prueba = 'hello'\n",
        "n = numValue(prueba)\n",
        "s = chrValue(n)\n",
        "\n",
        "print(f'Entrada: {prueba}')\n",
        "print(f'Representación numérica: {n}')\n",
        "print(f'Recuperación de la entrada: {s}')"
      ]
    },
    {
      "cell_type": "markdown",
      "metadata": {
        "id": "DlYtLCMlgK7H"
      },
      "source": [
        "Ahora definimos una función que recibe el texto plano y la llave; y que retorno el texto cifrado."
      ]
    },
    {
      "cell_type": "code",
      "execution_count": 15,
      "metadata": {
        "id": "y25iQMjcgK7H"
      },
      "outputs": [],
      "source": [
        "def cipherOTP(plainText , key):\n",
        "    if  len(plainText) != len(key) : raise Exception(\"Plain text and key must have the same length\")\n",
        "    pTNum = numValue(plainText)\n",
        "    keyNum = numValue(key)\n",
        "    n = len(key)\n",
        "    cTNum = [(pTNum[i]+keyNum[i])%26 for i in range(n)]\n",
        "    cipherText = chrValue(cTNum)\n",
        "    return cipherText"
      ]
    },
    {
      "cell_type": "markdown",
      "metadata": {
        "id": "_PGqfMLfgK7H"
      },
      "source": [
        "Podemos probarlo con una cadena de ejemplo; verificando que obtenemos un texto cifrado que no tiene similitudes con el original"
      ]
    },
    {
      "cell_type": "code",
      "execution_count": 16,
      "metadata": {
        "colab": {
          "base_uri": "https://localhost:8080/",
          "height": 35
        },
        "id": "1xuPnqwWgK7H",
        "outputId": "c5fad0ac-c5fa-4990-c4f8-0fc583aa5498"
      },
      "outputs": [
        {
          "output_type": "execute_result",
          "data": {
            "text/plain": [
              "'LSIUT'"
            ],
            "application/vnd.google.colaboratory.intrinsic+json": {
              "type": "string"
            }
          },
          "metadata": {},
          "execution_count": 16
        }
      ],
      "source": [
        "textoPlano = 'hello'\n",
        "llave = 'eoxjf'\n",
        "cipherOTP(plainText=textoPlano, key=llave)"
      ]
    },
    {
      "cell_type": "markdown",
      "metadata": {
        "id": "NrnrJwJQgK7I"
      },
      "source": [
        "Ahora definimos una función que sea capaz de descifrar un texto teniendo como base la llave y el texto cifrado"
      ]
    },
    {
      "cell_type": "code",
      "execution_count": 17,
      "metadata": {
        "id": "sr-QI4FugK7I"
      },
      "outputs": [],
      "source": [
        "def decipherOTP(cipherText , key):\n",
        "    if  len(cipherText) != len(key) : raise Exception(\"Ciphertext and key must have the same length\")\n",
        "    cTNum = numValue(cipherText)\n",
        "    keyNum = numValue(key)\n",
        "    n = len(key)\n",
        "    pTNum = [(cTNum[i]-keyNum[i])%26 for i in range(n)]\n",
        "    plainText = chrValue(pTNum)\n",
        "    return plainText"
      ]
    },
    {
      "cell_type": "code",
      "execution_count": 18,
      "metadata": {
        "colab": {
          "base_uri": "https://localhost:8080/",
          "height": 35
        },
        "id": "W0SrQZYigK7I",
        "outputId": "a300b50a-4fa1-4105-8184-76f28829a0f9"
      },
      "outputs": [
        {
          "output_type": "execute_result",
          "data": {
            "text/plain": [
              "'HELLO'"
            ],
            "application/vnd.google.colaboratory.intrinsic+json": {
              "type": "string"
            }
          },
          "metadata": {},
          "execution_count": 18
        }
      ],
      "source": [
        "textoCifrado = 'lsiut'\n",
        "llave = 'eoxjf'\n",
        "decipherOTP(cipherText=textoCifrado, key=llave)"
      ]
    },
    {
      "cell_type": "markdown",
      "metadata": {
        "id": "--jrssyGgK7I"
      },
      "source": [
        "Finalmente definimos una rutina que una estos procesos y que realice las operaciones de acuerdo a lo definido por el usuario"
      ]
    },
    {
      "cell_type": "code",
      "execution_count": 19,
      "metadata": {
        "id": "l-uIrUHbgK7I"
      },
      "outputs": [],
      "source": [
        "def OTPMain():\n",
        "    print('Inicio de programa de cifrado-descifrado usando OTP\\n')\n",
        "    mode = int(input('Elija el modo de operación (1 para cifrar, 2 para descifrar, 3 para salir): '))\n",
        "    if mode==1:\n",
        "        text = str(input('Ingresa el texto a cifrar: '))\n",
        "        key = str(input('Ingresa la llave para cifrar: '))\n",
        "        answer = cipherOTP(text,key)\n",
        "        print(f'Texto cifrado: {answer}')\n",
        "    elif mode==2:\n",
        "        text = str(input('Ingresa el texto a descifrar: '))\n",
        "        key = str(input('Ingresa la llave para descifrar: '))\n",
        "        answer = decipherOTP(text,key)\n",
        "        print(f'Texto descifrado: {answer}')\n",
        "    else:\n",
        "        return\n",
        "    print()\n",
        "    OTPMain()"
      ]
    },
    {
      "cell_type": "code",
      "execution_count": 20,
      "metadata": {
        "colab": {
          "base_uri": "https://localhost:8080/"
        },
        "id": "aGvrW7TXgK7I",
        "outputId": "7c1ec520-b507-4a9d-c081-09256f0cba9f"
      },
      "outputs": [
        {
          "name": "stdout",
          "output_type": "stream",
          "text": [
            "Inicio de programa de cifrado-descifrado usando OTP\n",
            "\n",
            "Elija el modo de operación (1 para cifrar, 2 para descifrar, 3 para salir): 1\n",
            "Ingresa el texto a cifrar: hello\n",
            "Ingresa la llave para cifrar: eoxjf\n",
            "Texto cifrado: LSIUT\n",
            "\n",
            "Inicio de programa de cifrado-descifrado usando OTP\n",
            "\n",
            "Elija el modo de operación (1 para cifrar, 2 para descifrar, 3 para salir): 2\n",
            "Ingresa el texto a descifrar: lsiut\n",
            "Ingresa la llave para descifrar: eoxjf\n",
            "Texto descifrado: HELLO\n",
            "\n",
            "Inicio de programa de cifrado-descifrado usando OTP\n",
            "\n",
            "Elija el modo de operación (1 para cifrar, 2 para descifrar, 3 para salir): 3\n"
          ]
        }
      ],
      "source": [
        "OTPMain()"
      ]
    }
  ],
  "metadata": {
    "kernelspec": {
      "display_name": "Python 3",
      "language": "python",
      "name": "python3"
    },
    "language_info": {
      "codemirror_mode": {
        "name": "ipython",
        "version": 3
      },
      "file_extension": ".py",
      "mimetype": "text/x-python",
      "name": "python",
      "nbconvert_exporter": "python",
      "pygments_lexer": "ipython3",
      "version": "3.12.5"
    },
    "colab": {
      "provenance": []
    }
  },
  "nbformat": 4,
  "nbformat_minor": 0
}