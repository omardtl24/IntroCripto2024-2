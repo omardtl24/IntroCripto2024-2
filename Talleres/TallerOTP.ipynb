{
 "cells": [
  {
   "cell_type": "markdown",
   "metadata": {},
   "source": [
    "# Taller OTP\n",
    "\n",
    "**Estudiante:** Omar David Toledo Leguizamón"
   ]
  },
  {
   "cell_type": "markdown",
   "metadata": {},
   "source": [
    "Implementar el algoritmo One Time Pad (OTP) en Python.\n",
    "\n",
    "1. El algoritmo debe recibir como entrada para cifrar:\n",
    "* El mensaje en texto claro\n",
    "* La llave\n",
    "2. Para decifrar:\n",
    "* Mensaje cifrado\n",
    "* La llave"
   ]
  },
  {
   "cell_type": "markdown",
   "metadata": {},
   "source": [
    "## Desarrollo"
   ]
  },
  {
   "cell_type": "markdown",
   "metadata": {},
   "source": [
    "Primero definimos una estrategia para convertir cada letra a su equivalente numérico. Para hecho, aprovecharemos la función `ord` de python para tener el equivalente numerico de nuestro caracter. Adicionalmente, se convertira la letra a mayuscula para evitar inconvenientes y manejar solo 26 caracteres."
   ]
  },
  {
   "cell_type": "code",
   "execution_count": 1,
   "metadata": {},
   "outputs": [],
   "source": [
    "def numValue(chr):\n",
    "    if len(chr)==1:\n",
    "        #65 es el valor de A; asi se obliga a que el conteo inicie en 0\n",
    "        return ord(chr.upper())-65\n",
    "    else:\n",
    "        #Si la cadena es más grande a 1 caracter, se aplica el valor a cada una de estas\n",
    "        return [numValue(c) for c in chr]"
   ]
  },
  {
   "cell_type": "markdown",
   "metadata": {},
   "source": [
    "Posteriormente, realizamos una función que dada la representación numérica de una palabra, se pueda recuperar su contenido en caracteres en mayuscula"
   ]
  },
  {
   "cell_type": "code",
   "execution_count": 2,
   "metadata": {},
   "outputs": [],
   "source": [
    "def chrValue(num):\n",
    "    if type(num)==int:\n",
    "        return chr(num+65)\n",
    "    elif type(num)==list:\n",
    "        return ''.join([chrValue(n) for n in num])"
   ]
  },
  {
   "cell_type": "markdown",
   "metadata": {},
   "source": [
    "Podemos ver que funciona para la cadena de entreda *hello*"
   ]
  },
  {
   "cell_type": "code",
   "execution_count": 3,
   "metadata": {},
   "outputs": [
    {
     "name": "stdout",
     "output_type": "stream",
     "text": [
      "Entrada: hello\n",
      "Representación numérica: [7, 4, 11, 11, 14]\n",
      "Recuperación de la entrada: HELLO\n"
     ]
    }
   ],
   "source": [
    "prueba = 'hello'\n",
    "n = numValue(prueba)\n",
    "s = chrValue(n)\n",
    "\n",
    "print(f'Entrada: {prueba}')\n",
    "print(f'Representación numérica: {n}')\n",
    "print(f'Recuperación de la entrada: {s}')"
   ]
  },
  {
   "cell_type": "markdown",
   "metadata": {},
   "source": [
    "Ahora definimos una función que recibe el texto plano y la llave; y que retorno el texto cifrado."
   ]
  },
  {
   "cell_type": "code",
   "execution_count": 4,
   "metadata": {},
   "outputs": [],
   "source": [
    "def cipherOTP(plainText , key):\n",
    "    if  len(plainText) != len(key) : raise Exception(\"Plain text and key must have the same length\")\n",
    "    pTNum = numValue(plainText)\n",
    "    keyNum = numValue(key)\n",
    "    n = len(key)\n",
    "    cTNum = [(pTNum[i]+keyNum[i])%26 for i in range(n)]\n",
    "    cipherText = chrValue(cTNum)\n",
    "    return cipherText"
   ]
  },
  {
   "cell_type": "markdown",
   "metadata": {},
   "source": [
    "Podemos probarlo con una cadena de ejemplo; verificando que obtenemos un texto cifrado que no tiene similitudes con el original"
   ]
  },
  {
   "cell_type": "code",
   "execution_count": 5,
   "metadata": {},
   "outputs": [
    {
     "data": {
      "text/plain": [
       "'LSIUT'"
      ]
     },
     "execution_count": 5,
     "metadata": {},
     "output_type": "execute_result"
    }
   ],
   "source": [
    "textoPlano = 'hello'\n",
    "llave = 'eoxjf'\n",
    "cipherOTP(plainText=textoPlano, key=llave)"
   ]
  },
  {
   "cell_type": "markdown",
   "metadata": {},
   "source": [
    "Ahora definimos una función que sea capaz de descifrar un texto teniendo como base la llave y el texto cifrado"
   ]
  },
  {
   "cell_type": "code",
   "execution_count": 6,
   "metadata": {},
   "outputs": [],
   "source": [
    "def decipherOTP(cipherText , key):\n",
    "    if  len(cipherText) != len(key) : raise Exception(\"Ciphertext and key must have the same length\")\n",
    "    cTNum = numValue(cipherText)\n",
    "    keyNum = numValue(key)\n",
    "    n = len(key)\n",
    "    pTNum = [(cTNum[i]-keyNum[i])%26 for i in range(n)]\n",
    "    plainText = chrValue(pTNum)\n",
    "    return plainText"
   ]
  },
  {
   "cell_type": "code",
   "execution_count": 7,
   "metadata": {},
   "outputs": [
    {
     "data": {
      "text/plain": [
       "'HELLO'"
      ]
     },
     "execution_count": 7,
     "metadata": {},
     "output_type": "execute_result"
    }
   ],
   "source": [
    "textoCifrado = 'lsiut'\n",
    "llave = 'eoxjf'\n",
    "decipherOTP(cipherText=textoCifrado, key=llave)"
   ]
  },
  {
   "cell_type": "markdown",
   "metadata": {},
   "source": [
    "Finalmente definimos una rutina que una estos procesos y que realice las operaciones de acuerdo a lo definido por el usuario"
   ]
  },
  {
   "cell_type": "code",
   "execution_count": 8,
   "metadata": {},
   "outputs": [],
   "source": [
    "def OTPMain():\n",
    "    mode = int(input('Elija el modo de operacióm (1 para cifrar, 2 para descifrar):'))\n",
    "    if mode==1:\n",
    "        text = str(input('Ingresa el texto a cifrar: '))\n",
    "        key = str(input('Ingresa la llave para cifrar: '))\n",
    "        answer = cipherOTP(text,key)\n",
    "        print(f'Texto cifrado: {answer}')\n",
    "    elif mode==2:\n",
    "        text = str(input('Ingresa el texto a descifrar: '))\n",
    "        key = str(input('Ingresa la llave para descifrar: '))\n",
    "        answer = decipherOTP(text,key)\n",
    "        print(f'Texto descifrado: {answer}')\n",
    "    else: \n",
    "        return\n",
    "    OTPMain()"
   ]
  },
  {
   "cell_type": "code",
   "execution_count": 9,
   "metadata": {},
   "outputs": [
    {
     "ename": "ValueError",
     "evalue": "invalid literal for int() with base 10: ''",
     "output_type": "error",
     "traceback": [
      "\u001b[1;31m---------------------------------------------------------------------------\u001b[0m",
      "\u001b[1;31mValueError\u001b[0m                                Traceback (most recent call last)",
      "Cell \u001b[1;32mIn[9], line 1\u001b[0m\n\u001b[1;32m----> 1\u001b[0m \u001b[43mOTPMain\u001b[49m\u001b[43m(\u001b[49m\u001b[43m)\u001b[49m\n",
      "Cell \u001b[1;32mIn[8], line 2\u001b[0m, in \u001b[0;36mOTPMain\u001b[1;34m()\u001b[0m\n\u001b[0;32m      1\u001b[0m \u001b[38;5;28;01mdef\u001b[39;00m \u001b[38;5;21mOTPMain\u001b[39m():\n\u001b[1;32m----> 2\u001b[0m     mode \u001b[38;5;241m=\u001b[39m \u001b[38;5;28;43mint\u001b[39;49m\u001b[43m(\u001b[49m\u001b[38;5;28;43minput\u001b[39;49m\u001b[43m(\u001b[49m\u001b[38;5;124;43m'\u001b[39;49m\u001b[38;5;124;43mElija el modo de operacióm (1 para cifrar, 2 para descifrar):\u001b[39;49m\u001b[38;5;124;43m'\u001b[39;49m\u001b[43m)\u001b[49m\u001b[43m)\u001b[49m\n\u001b[0;32m      3\u001b[0m     \u001b[38;5;28;01mif\u001b[39;00m mode\u001b[38;5;241m==\u001b[39m\u001b[38;5;241m1\u001b[39m:\n\u001b[0;32m      4\u001b[0m         text \u001b[38;5;241m=\u001b[39m \u001b[38;5;28mstr\u001b[39m(\u001b[38;5;28minput\u001b[39m(\u001b[38;5;124m'\u001b[39m\u001b[38;5;124mIngresa el texto a cifrar: \u001b[39m\u001b[38;5;124m'\u001b[39m))\n",
      "\u001b[1;31mValueError\u001b[0m: invalid literal for int() with base 10: ''"
     ]
    }
   ],
   "source": [
    "OTPMain()"
   ]
  }
 ],
 "metadata": {
  "kernelspec": {
   "display_name": "Python 3",
   "language": "python",
   "name": "python3"
  },
  "language_info": {
   "codemirror_mode": {
    "name": "ipython",
    "version": 3
   },
   "file_extension": ".py",
   "mimetype": "text/x-python",
   "name": "python",
   "nbconvert_exporter": "python",
   "pygments_lexer": "ipython3",
   "version": "3.12.5"
  }
 },
 "nbformat": 4,
 "nbformat_minor": 2
}
