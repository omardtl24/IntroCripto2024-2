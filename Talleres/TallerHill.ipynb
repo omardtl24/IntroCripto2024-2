{
  "cells": [
    {
      "cell_type": "markdown",
      "metadata": {
        "id": "AqEZjReWMxoX"
      },
      "source": [
        "# Cifrado de Hill\n",
        "\n",
        "**Estudiante:** Omar David Toledo Leguizamón"
      ]
    },
    {
      "cell_type": "markdown",
      "metadata": {
        "id": "YkuG9YMBMxoZ"
      },
      "source": [
        "Implementar el algoritmo de cifrado de bloques de Hill en Python (o en el lenguaje de su elección) utilizando el módulo 26. Asegúrese de validar que la matriz tiene inversa modular, es decir, que el determinante es diferente a 0 y que el determinante sea coprimo con 26, es decir que $\\texttt{gcd}(detA,26)=1$.\n",
        "\n",
        "1. El algoritmo debe recibir como entrada para cifrar:\n",
        "\n",
        "* El mensaje en texto claro\n",
        "* La clave (matriz de 2x2)\n",
        "\n",
        "2. Para decifrar:\n",
        "\n",
        "* Mensaje cifrado\n",
        "* La clave (matriz de 2x2)"
      ]
    },
    {
      "cell_type": "markdown",
      "metadata": {
        "id": "3C8VBql8MxoZ"
      },
      "source": [
        "## Desarrollo"
      ]
    },
    {
      "cell_type": "markdown",
      "metadata": {
        "id": "3QHHrUb2MxoZ"
      },
      "source": [
        "En primer lugar, vamos a definir una función que nos permita determinar si una matriz tiene una inversa modular válida para nuestro problema"
      ]
    },
    {
      "cell_type": "code",
      "execution_count": 40,
      "metadata": {
        "id": "wQprRJlMMxoZ"
      },
      "outputs": [],
      "source": [
        "import numpy as np\n",
        "\n",
        "def extendedEuclidianAlgorithm(a,b):\n",
        "    if b==0: return a,1,0\n",
        "    q = a//b\n",
        "    d1,x1,y1 = extendedEuclidianAlgorithm(b,a%b)\n",
        "    d,x,y = d1 , y1 , x1 - q*y1\n",
        "    return d,x,y\n",
        "'''\n",
        "def getInverse(m):\n",
        "    det = int(np.linalg.det(m))\n",
        "    d,x,y = extendedEuclidianAlgorithm(det,26)\n",
        "    if d!=1: return None\n",
        "    inverse =  np.linalg.inv(m) * det\n",
        "    modular_inverse = (x*inverse)%26\n",
        "    return modular_inverse\n",
        "'''\n",
        "def getInverse(m):\n",
        "    det = int(np.linalg.det(m))\n",
        "    d,x,y = extendedEuclidianAlgorithm(det,26)\n",
        "    if d!=1: return None\n",
        "    inverse = np.linalg.inv(m) * det\n",
        "    modular_inverse = (x * inverse) % 26\n",
        "    modular_inverse = np.round(modular_inverse)\n",
        "    modular_inverse = modular_inverse.astype(int)\n",
        "    modular_inverse = np.mod(modular_inverse, 26)\n",
        "    return modular_inverse"
      ]
    },
    {
      "cell_type": "markdown",
      "metadata": {
        "id": "ivHZCIcXMxoa"
      },
      "source": [
        "Podemos probar como una matriz valida nos devuelve la inversa de la matriz; mientras que una invalida nos devuelve nulo"
      ]
    },
    {
      "cell_type": "code",
      "execution_count": 41,
      "metadata": {
        "id": "IzPMUm11Mxoa",
        "outputId": "389b6f06-b539-4caa-8652-f56c798b9602",
        "colab": {
          "base_uri": "https://localhost:8080/"
        }
      },
      "outputs": [
        {
          "output_type": "stream",
          "name": "stdout",
          "text": [
            "[[ 7 18]\n",
            " [23 11]]\n"
          ]
        }
      ],
      "source": [
        "test = np.array([\n",
        "    [11,8],\n",
        "    [3,7]\n",
        "])\n",
        "print(getInverse(test))"
      ]
    },
    {
      "cell_type": "code",
      "execution_count": 42,
      "metadata": {
        "id": "jNUfloBJMxob",
        "outputId": "da48055c-7f58-4853-d845-9f50fe09ea42",
        "colab": {
          "base_uri": "https://localhost:8080/"
        }
      },
      "outputs": [
        {
          "output_type": "stream",
          "name": "stdout",
          "text": [
            "None\n"
          ]
        }
      ],
      "source": [
        "test = np.array([\n",
        "    [11,8],\n",
        "    [22,16]\n",
        "])\n",
        "print(getInverse(test))"
      ]
    },
    {
      "cell_type": "markdown",
      "metadata": {
        "id": "N0fYloYkMxob"
      },
      "source": [
        "Ahora definimos las rutinas que dadas dos cadenas, realicen el cifrado o descrifrado de las mismas"
      ]
    },
    {
      "cell_type": "code",
      "execution_count": 43,
      "metadata": {
        "id": "u1PRT_3IMxoc"
      },
      "outputs": [],
      "source": [
        "def applyEntryResult(entry,matrix):\n",
        "    n = matrix.shape[0]\n",
        "    entry = entry.replace(' ','')\n",
        "    output = ''\n",
        "    for i in range(0,len(entry),n):\n",
        "        t = entry[i:i+n]\n",
        "        if len(t)!=n: t+='x'*(n-len(t))\n",
        "        c = np.array([ord(char)-ord('A') for char in t])\n",
        "        r = ((c @ matrix)%26).astype(int)\n",
        "        rt = [chr(s+ord('A')) for s in r]\n",
        "        output+=''.join(rt)\n",
        "    return output\n",
        "\n",
        "def encodeHill(entry, m):\n",
        "    return applyEntryResult(entry,m)\n",
        "\n",
        "def decodeHill(entry, m):\n",
        "    return applyEntryResult(entry, getInverse(m))"
      ]
    },
    {
      "cell_type": "markdown",
      "metadata": {
        "id": "KOGoprQVMxoc"
      },
      "source": [
        "Probamos el resultado"
      ]
    },
    {
      "cell_type": "code",
      "execution_count": 44,
      "metadata": {
        "id": "fNjdGkttMxoc",
        "outputId": "07400141-aa66-4055-ee86-c72bca2ce60c",
        "colab": {
          "base_uri": "https://localhost:8080/",
          "height": 36
        }
      },
      "outputs": [
        {
          "output_type": "execute_result",
          "data": {
            "text/plain": [
              "'CN'"
            ],
            "application/vnd.google.colaboratory.intrinsic+json": {
              "type": "string"
            }
          },
          "metadata": {},
          "execution_count": 44
        }
      ],
      "source": [
        "test = np.array([\n",
        "    [11,8],\n",
        "    [3,7]\n",
        "])\n",
        "\n",
        "text = 'BX'\n",
        "\n",
        "encodeHill(text, test)"
      ]
    },
    {
      "cell_type": "code",
      "execution_count": 45,
      "metadata": {
        "id": "DtjMLeOVMxoc",
        "outputId": "250463a9-cf01-4480-b276-459d92e8a9cf",
        "colab": {
          "base_uri": "https://localhost:8080/",
          "height": 36
        }
      },
      "outputs": [
        {
          "output_type": "execute_result",
          "data": {
            "text/plain": [
              "'BX'"
            ],
            "application/vnd.google.colaboratory.intrinsic+json": {
              "type": "string"
            }
          },
          "metadata": {},
          "execution_count": 45
        }
      ],
      "source": [
        "test = np.array([\n",
        "    [11,8],\n",
        "    [3,7]\n",
        "])\n",
        "text = 'CN'\n",
        "decodeHill(text, test)"
      ]
    },
    {
      "cell_type": "markdown",
      "metadata": {
        "id": "K-XEblBkMxoc"
      },
      "source": [
        "Unimos todo el proceso en una única rutina main"
      ]
    },
    {
      "cell_type": "code",
      "execution_count": 46,
      "metadata": {
        "id": "a-deuhEZMxoc",
        "outputId": "ed56d4d9-e559-4f4f-931f-497863c96f77",
        "colab": {
          "base_uri": "https://localhost:8080/"
        }
      },
      "outputs": [
        {
          "output_type": "stream",
          "name": "stdout",
          "text": [
            "[[11  8]\n",
            " [ 3  7]]\n"
          ]
        }
      ],
      "source": [
        "def parse2x2Matrix(input):\n",
        "    data = [int(i) for i in input.strip().split(' ')]\n",
        "    return np.array(data).reshape((2,2))\n",
        "\n",
        "print(parse2x2Matrix('11 8 3 7'))"
      ]
    },
    {
      "cell_type": "code",
      "execution_count": 51,
      "metadata": {
        "id": "ioWNRPRhMxod"
      },
      "outputs": [],
      "source": [
        "def HillMain():\n",
        "    print('Inicio de programa de cifrado-descifrado usando Hill\\n')\n",
        "    mode = int(input('Elija el modo de operación (1 para cifrar, 2 para descifrar, 3 para salir): '))\n",
        "    if mode==1:\n",
        "        text = str(input('Ingresa el texto a cifrar: '))\n",
        "        s = str(input('Ingresa los datos de la matriz 2x2 (Separado por espacios): '))\n",
        "        m = parse2x2Matrix(s)\n",
        "        if getInverse(m) is None:\n",
        "            print(\"Invalid input matrix\")\n",
        "            HillMain()\n",
        "        answer = encodeHill(text,m)\n",
        "        print(f'Texto cifrado: {answer}')\n",
        "    elif mode==2:\n",
        "        text = str(input('Ingresa el texto a descifrar: '))\n",
        "        s = str(input('Ingresa los datos de la matriz 2x2 (Separado por espacios): '))\n",
        "        m = parse2x2Matrix(s)\n",
        "        if getInverse(m) is None:\n",
        "            print(\"Invalid input matrix\")\n",
        "            HillMain()\n",
        "        answer = decodeHill(text,m)\n",
        "        print(f'Texto descifrado: {answer}')\n",
        "    else:\n",
        "        return\n",
        "    print()\n",
        "    HillMain()"
      ]
    },
    {
      "cell_type": "code",
      "source": [
        "HillMain()"
      ],
      "metadata": {
        "id": "xrWPm3J6M5jR",
        "outputId": "ea1aab2f-7255-4e9a-ba2e-cf954b95618e",
        "colab": {
          "base_uri": "https://localhost:8080/"
        }
      },
      "execution_count": 52,
      "outputs": [
        {
          "name": "stdout",
          "output_type": "stream",
          "text": [
            "Inicio de programa de cifrado-descifrado usando Hill\n",
            "\n",
            "Elija el modo de operación (1 para cifrar, 2 para descifrar, 3 para salir): 1\n",
            "Ingresa el texto a cifrar: NUMBERTHEORYISEASY\n",
            "Ingresa los datos de la matriz 2x2 (Separado por espacios): 11 8 3 7\n",
            "Texto cifrado: VKFZRVWTIAZSMISGKA\n",
            "\n",
            "Inicio de programa de cifrado-descifrado usando Hill\n",
            "\n",
            "Elija el modo de operación (1 para cifrar, 2 para descifrar, 3 para salir): 2\n",
            "Ingresa el texto a descifrar: VKFZRVWTIAZSMISGKA\n",
            "Ingresa los datos de la matriz 2x2 (Separado por espacios): 11 8 3 7\n",
            "Texto descifrado: NUMBERTHEORYISEASY\n",
            "\n",
            "Inicio de programa de cifrado-descifrado usando Hill\n",
            "\n",
            "Elija el modo de operación (1 para cifrar, 2 para descifrar, 3 para salir): 3\n"
          ]
        }
      ]
    }
  ],
  "metadata": {
    "kernelspec": {
      "display_name": "Python 3",
      "language": "python",
      "name": "python3"
    },
    "language_info": {
      "codemirror_mode": {
        "name": "ipython",
        "version": 3
      },
      "file_extension": ".py",
      "mimetype": "text/x-python",
      "name": "python",
      "nbconvert_exporter": "python",
      "pygments_lexer": "ipython3",
      "version": "3.12.5"
    },
    "colab": {
      "provenance": []
    }
  },
  "nbformat": 4,
  "nbformat_minor": 0
}