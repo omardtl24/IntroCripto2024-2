{
 "cells": [
  {
   "cell_type": "markdown",
   "metadata": {},
   "source": [
    "# Cifrado de Hill\n",
    "\n",
    "**Estudiante:** Omar David Toledo Leguizamón"
   ]
  },
  {
   "cell_type": "markdown",
   "metadata": {},
   "source": [
    "Implementar el algoritmo de cifrado de bloques de Hill en Python (o en el lenguaje de su elección) utilizando el módulo 26. Asegúrese de validar que la matriz tiene inversa modular, es decir, que el determinante es diferente a 0 y que el determinante sea coprimo con 26, es decir que $\\texttt{gcd}(detA,26)=1$. \n",
    "\n",
    "1. El algoritmo debe recibir como entrada para cifrar:\n",
    "\n",
    "* El mensaje en texto claro\n",
    "* La clave (matriz de 2x2)\n",
    "\n",
    "2. Para decifrar:\n",
    "\n",
    "* Mensaje cifrado\n",
    "* La clave (matriz de 2x2)"
   ]
  },
  {
   "cell_type": "markdown",
   "metadata": {},
   "source": [
    "## Desarrollo"
   ]
  },
  {
   "cell_type": "markdown",
   "metadata": {},
   "source": [
    "En primer lugar, vamos a definir una función que nos permita determinar si una matriz tiene una inversa modular válida para nuestro problema"
   ]
  },
  {
   "cell_type": "code",
   "execution_count": 94,
   "metadata": {},
   "outputs": [],
   "source": [
    "import numpy as np\n",
    "\n",
    "def extendedEuclidianAlgorithm(a,b):\n",
    "    if b==0: return a,1,0\n",
    "    q = a//b\n",
    "    d1,x1,y1 = extendedEuclidianAlgorithm(b,a%b)\n",
    "    d,x,y = d1 , y1 , x1 - q*y1\n",
    "    return d,x,y\n",
    "\n",
    "def getInverse(m):\n",
    "    det = int(np.linalg.det(m))\n",
    "    d,x,y = extendedEuclidianAlgorithm(det,26)\n",
    "    if d!=1: return None\n",
    "    inverse =  np.linalg.inv(m) * det\n",
    "    modular_inverse = (x*inverse)%26\n",
    "    return modular_inverse"
   ]
  },
  {
   "cell_type": "markdown",
   "metadata": {},
   "source": [
    "Podemos probar como una matriz valida nos devuelve la inversa de la matriz; mientras que una invalida nos devuelve nulo"
   ]
  },
  {
   "cell_type": "code",
   "execution_count": 95,
   "metadata": {},
   "outputs": [
    {
     "name": "stdout",
     "output_type": "stream",
     "text": [
      "[[ 7. 18.]\n",
      " [23. 11.]]\n"
     ]
    }
   ],
   "source": [
    "test = np.array([\n",
    "    [11,8],\n",
    "    [3,7]\n",
    "])\n",
    "print(getInverse(test))"
   ]
  },
  {
   "cell_type": "code",
   "execution_count": 96,
   "metadata": {},
   "outputs": [
    {
     "name": "stdout",
     "output_type": "stream",
     "text": [
      "None\n"
     ]
    }
   ],
   "source": [
    "test = np.array([\n",
    "    [11,8],\n",
    "    [22,16]\n",
    "])\n",
    "print(getInverse(test))"
   ]
  },
  {
   "cell_type": "markdown",
   "metadata": {},
   "source": [
    "Ahora definimos las rutinas que dadas dos cadenas, realicen el cifrado o descrifrado de las mismas"
   ]
  },
  {
   "cell_type": "code",
   "execution_count": 97,
   "metadata": {},
   "outputs": [],
   "source": [
    "def applyEntryResult(entry,matrix):\n",
    "    n = matrix.shape[0]\n",
    "    entry = entry.replace(' ','')\n",
    "    output = ''\n",
    "    for i in range(0,len(entry),n):\n",
    "        t = entry[i:i+n]\n",
    "        if len(t)!=n: t+='x'*(n-len(t))\n",
    "        c = np.array([ord(char)-ord('A') for char in t])\n",
    "        r = (np.matmul(c,matrix)%26).astype(int)\n",
    "        rt = [chr(s+ord('A')) for s in r]\n",
    "        output+=''.join(rt)\n",
    "    return output\n",
    "\n",
    "def encodeHill(entry, m):\n",
    "    return applyEntryResult(entry,m)\n",
    "    \n",
    "def decodeHill(entry, m):\n",
    "    return applyEntryResult(entry, getInverse(m))"
   ]
  },
  {
   "cell_type": "markdown",
   "metadata": {},
   "source": [
    "Probamos el resultado"
   ]
  },
  {
   "cell_type": "code",
   "execution_count": 98,
   "metadata": {},
   "outputs": [
    {
     "data": {
      "text/plain": [
       "'DELW'"
      ]
     },
     "execution_count": 98,
     "metadata": {},
     "output_type": "execute_result"
    }
   ],
   "source": [
    "test = np.array([\n",
    "    [11,8],\n",
    "    [3,7]\n",
    "])\n",
    "\n",
    "text = 'JULY'\n",
    "\n",
    "encodeHill(text, test)"
   ]
  },
  {
   "cell_type": "code",
   "execution_count": 99,
   "metadata": {},
   "outputs": [
    {
     "data": {
      "text/plain": [
       "'JULY'"
      ]
     },
     "execution_count": 99,
     "metadata": {},
     "output_type": "execute_result"
    }
   ],
   "source": [
    "test = np.array([\n",
    "    [11,8],\n",
    "    [3,7]\n",
    "])\n",
    "text = 'DELW'\n",
    "decodeHill(text, test)"
   ]
  },
  {
   "cell_type": "markdown",
   "metadata": {},
   "source": [
    "Unimos todo el proceso en una única rutina main"
   ]
  },
  {
   "cell_type": "code",
   "execution_count": 105,
   "metadata": {},
   "outputs": [
    {
     "data": {
      "text/plain": [
       "array([[1, 2],\n",
       "       [3, 4]])"
      ]
     },
     "execution_count": 105,
     "metadata": {},
     "output_type": "execute_result"
    }
   ],
   "source": [
    "def parse2x2Matrix(input):\n",
    "    data = [int(i) for i in input.strip().split(' ')]\n",
    "    return np.array(data).reshape((2,2))\n",
    "\n",
    "parse2x2Matrix('1 2 3 4')"
   ]
  },
  {
   "cell_type": "code",
   "execution_count": null,
   "metadata": {},
   "outputs": [],
   "source": [
    "def HillMain():\n",
    "    print('Inicio de programa de cifrado-descifrado usando Hill\\n')\n",
    "    mode = int(input('Elija el modo de operación (1 para cifrar, 2 para descifrar, 3 para salir): '))\n",
    "    if mode==1:\n",
    "        text = str(input('Ingresa el texto a cifrar: '))\n",
    "        s = int(input('Ingresa los datos de la matriz 2x2 (Separado por espacios): '))\n",
    "        m = parse2x2Matrix(s)\n",
    "        if getInverse(m) is None:\n",
    "            print(\"Invalid input matrix\")\n",
    "            HillMain()\n",
    "        answer = encodeHill(text,m)\n",
    "        print(f'Texto cifrado: {answer}')\n",
    "    elif mode==2:\n",
    "        text = str(input('Ingresa el texto a descifrar: '))\n",
    "        s = int(input('Ingresa los datos de la matriz 2x2 (Separado por espacios): '))\n",
    "        m = parse2x2Matrix(s)\n",
    "        if getInverse(m) is None:\n",
    "            print(\"Invalid input matrix\")\n",
    "            HillMain()\n",
    "        answer = decodeHill(text,m)\n",
    "        print(f'Texto cifrado: {answer}')\n",
    "    else:\n",
    "        return\n",
    "    print()"
   ]
  }
 ],
 "metadata": {
  "kernelspec": {
   "display_name": "Python 3",
   "language": "python",
   "name": "python3"
  },
  "language_info": {
   "codemirror_mode": {
    "name": "ipython",
    "version": 3
   },
   "file_extension": ".py",
   "mimetype": "text/x-python",
   "name": "python",
   "nbconvert_exporter": "python",
   "pygments_lexer": "ipython3",
   "version": "3.12.5"
  }
 },
 "nbformat": 4,
 "nbformat_minor": 2
}
