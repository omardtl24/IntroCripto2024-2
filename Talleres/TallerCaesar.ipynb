{
  "cells": [
    {
      "cell_type": "markdown",
      "metadata": {
        "id": "wZM2HcqutJil"
      },
      "source": [
        "# Cifrado Caesar\n",
        "\n",
        "**Estudiante:** Omar David Toledo Leguizamón"
      ]
    },
    {
      "cell_type": "markdown",
      "metadata": {
        "id": "ss0r82_-tJim"
      },
      "source": [
        "Implementar el algoritmo de cifrado del Caesar en Python. Utilizar un parámetro para identificar el parámetro $k$ (permutaciones).\n",
        "\n",
        "1. El algoritmo debe recibir como entrada para cifrar:\n",
        "\n",
        "* El mensaje en texto claro\n",
        "* El parámetro $k$\n",
        "\n",
        "2. Para decifrar:\n",
        "\n",
        "* Mensaje cifrado\n",
        "* El parámetro $k$"
      ]
    },
    {
      "cell_type": "markdown",
      "metadata": {
        "id": "xVSnMeqhtJim"
      },
      "source": [
        "## Desarrollo"
      ]
    },
    {
      "cell_type": "markdown",
      "metadata": {
        "id": "1LNJEXzOtJim"
      },
      "source": [
        "En primer lugar, vamos a realizar una función que dado un texto, pueda dividirlo en subcadenas de tamaño fijo de acuerdo a un parametro definido por el usuario"
      ]
    },
    {
      "cell_type": "code",
      "execution_count": 1,
      "metadata": {
        "id": "s585xVkEtJim"
      },
      "outputs": [],
      "source": [
        "def splitEntry(text='' , size = 5):\n",
        "    if size<=0: return text\n",
        "    text = ''.join(text.split(' '))\n",
        "    i=0\n",
        "    f = []\n",
        "    while i<len(text):\n",
        "        f.append(text[i:i+size])\n",
        "        i+=size\n",
        "    return f\n"
      ]
    },
    {
      "cell_type": "code",
      "execution_count": 2,
      "metadata": {
        "id": "L-8GpZiOtJin",
        "outputId": "7eab3835-1557-4ffe-adb6-b2ebeba52a80",
        "colab": {
          "base_uri": "https://localhost:8080/",
          "height": 35
        }
      },
      "outputs": [
        {
          "output_type": "execute_result",
          "data": {
            "text/plain": [
              "'Retur ntoRo me'"
            ],
            "application/vnd.google.colaboratory.intrinsic+json": {
              "type": "string"
            }
          },
          "metadata": {},
          "execution_count": 2
        }
      ],
      "source": [
        "text = \"Return to Rome\"\n",
        "' '.join(splitEntry(text=text , size = 5))"
      ]
    },
    {
      "cell_type": "code",
      "execution_count": 3,
      "metadata": {
        "id": "7cAy1O3WtJin",
        "outputId": "bb5ef957-80b3-4496-c1b8-561e1b1eb05e",
        "colab": {
          "base_uri": "https://localhost:8080/",
          "height": 35
        }
      },
      "outputs": [
        {
          "output_type": "execute_result",
          "data": {
            "text/plain": [
              "'Return to Rome'"
            ],
            "application/vnd.google.colaboratory.intrinsic+json": {
              "type": "string"
            }
          },
          "metadata": {},
          "execution_count": 3
        }
      ],
      "source": [
        "text = \"Return to Rome\"\n",
        "splitEntry(text=text , size = 0)"
      ]
    },
    {
      "cell_type": "markdown",
      "metadata": {
        "id": "5i5gz3L3tJin"
      },
      "source": [
        "Ahora definimos una rutina que dada una subcadena de la entrada y el parámetro $k$, se obtenga la subcadena cifrada usando el algoritmo de Caesar"
      ]
    },
    {
      "cell_type": "code",
      "execution_count": 4,
      "metadata": {
        "id": "nYTQO5pYtJin"
      },
      "outputs": [],
      "source": [
        "def cipherCaesar(text = '', k = 3):\n",
        "    if type(text)==list: return ' '.join([cipherCaesar(s,k) for s in text])\n",
        "    text = text.upper()\n",
        "    cipherText = ''\n",
        "    for letter in text:\n",
        "        if letter!=' ':\n",
        "            v = ord(letter)-65\n",
        "            cipherText += chr(((v+k)%26)+65)\n",
        "        else: cipherText += letter\n",
        "    return cipherText"
      ]
    },
    {
      "cell_type": "code",
      "execution_count": 5,
      "metadata": {
        "id": "1Z7Lzar3tJio",
        "outputId": "1fdff200-b3b8-4071-ffcc-63287cfcb52c",
        "colab": {
          "base_uri": "https://localhost:8080/",
          "height": 35
        }
      },
      "outputs": [
        {
          "output_type": "execute_result",
          "data": {
            "text/plain": [
              "'UHWXUQ WR URPH'"
            ],
            "application/vnd.google.colaboratory.intrinsic+json": {
              "type": "string"
            }
          },
          "metadata": {},
          "execution_count": 5
        }
      ],
      "source": [
        "text = 'Return to Rome'\n",
        "f = splitEntry(text, size = 0)\n",
        "cipherCaesar(text = f, k = 3)"
      ]
    },
    {
      "cell_type": "code",
      "execution_count": 6,
      "metadata": {
        "id": "2Yfmc5tftJio",
        "outputId": "8c3f4aaf-01c0-459f-e07d-b0c3d20dc5ef",
        "colab": {
          "base_uri": "https://localhost:8080/",
          "height": 35
        }
      },
      "outputs": [
        {
          "output_type": "execute_result",
          "data": {
            "text/plain": [
              "'UHWXU QWRUR PH'"
            ],
            "application/vnd.google.colaboratory.intrinsic+json": {
              "type": "string"
            }
          },
          "metadata": {},
          "execution_count": 6
        }
      ],
      "source": [
        "text = 'Return to Rome'\n",
        "f = splitEntry(text, size = 5)\n",
        "cipherCaesar(text = f, k = 3)"
      ]
    },
    {
      "cell_type": "markdown",
      "metadata": {
        "id": "nbVnLYrntJio"
      },
      "source": [
        "Ahora definimos una rutina que dada una subcadena de la entrada y el parámetro $k$, se obtenga la subcadena descifrada usando el algoritmo de Caesar"
      ]
    },
    {
      "cell_type": "code",
      "execution_count": 7,
      "metadata": {
        "id": "0y2KC0MKtJio"
      },
      "outputs": [],
      "source": [
        "def decipherCaesar(cipherText = '', k = 3):\n",
        "    if type(cipherText)==list: return ' '.join([decipherCaesar(s,k) for s in cipherText])\n",
        "    cipherText = cipherText.upper()\n",
        "    text = ''\n",
        "    for letter in cipherText:\n",
        "        if letter!=' ':\n",
        "            v = ord(letter)-65\n",
        "            text += chr(((v-k)%26)+65)\n",
        "        else: text += letter\n",
        "    return text"
      ]
    },
    {
      "cell_type": "code",
      "execution_count": 8,
      "metadata": {
        "id": "QzrfDNSwtJip",
        "outputId": "5428d324-a884-440d-8972-dea3c2ba9a43",
        "colab": {
          "base_uri": "https://localhost:8080/",
          "height": 35
        }
      },
      "outputs": [
        {
          "output_type": "execute_result",
          "data": {
            "text/plain": [
              "'RETUR NTORO ME'"
            ],
            "application/vnd.google.colaboratory.intrinsic+json": {
              "type": "string"
            }
          },
          "metadata": {},
          "execution_count": 8
        }
      ],
      "source": [
        "ciphertext = 'UHWXUQWRURPH'\n",
        "f = splitEntry(ciphertext, size = 5)\n",
        "decipherCaesar(cipherText = f, k = 3)"
      ]
    },
    {
      "cell_type": "code",
      "execution_count": 9,
      "metadata": {
        "id": "x40v3x1_tJip",
        "outputId": "359cafe0-b295-43b2-f174-aff7e21f9a0c",
        "colab": {
          "base_uri": "https://localhost:8080/",
          "height": 35
        }
      },
      "outputs": [
        {
          "output_type": "execute_result",
          "data": {
            "text/plain": [
              "'RETURN TO ROME'"
            ],
            "application/vnd.google.colaboratory.intrinsic+json": {
              "type": "string"
            }
          },
          "metadata": {},
          "execution_count": 9
        }
      ],
      "source": [
        "ciphertext = 'UHWXUQ WR URPH'\n",
        "f = splitEntry(ciphertext, size = 0)\n",
        "decipherCaesar(cipherText = f, k = 3)"
      ]
    },
    {
      "cell_type": "markdown",
      "metadata": {
        "id": "kUGGK4jptJip"
      },
      "source": [
        "Finalmente hacemos una rutina main para unir el proceso de cifrado y descifrado"
      ]
    },
    {
      "cell_type": "code",
      "execution_count": 10,
      "metadata": {
        "id": "C1eh6bpqtJip"
      },
      "outputs": [],
      "source": [
        "def CaesarMain():\n",
        "    print('Inicio de programa de cifrado-descifrado usando Playfair\\n')\n",
        "    mode = int(input('Elija el modo de operación (1 para cifrar, 2 para descifrar, 3 para salir): '))\n",
        "    if mode==1:\n",
        "        text = str(input('Ingresa el texto a cifrar: '))\n",
        "        s = int(input('Ingresa el tamaño s de subcadena a usar (Si s<=0 la cadena no se partira): '))\n",
        "        k = int(input('Ingresa el valor del parametro k: '))\n",
        "        text = splitEntry(text,s)\n",
        "        answer = cipherCaesar(text,k)\n",
        "        print(f'Texto cifrado: {answer}')\n",
        "    elif mode==2:\n",
        "        text = str(input('Ingresa el texto a descifrar: '))\n",
        "        s = int(input('Ingresa el tamaño s de subcadena a usar (Si s<=0 la cadena no se partira): '))\n",
        "        k = int(input('Ingresa el valor del parametro k: '))\n",
        "        text = splitEntry(text,s)\n",
        "        answer = decipherCaesar(text,k)\n",
        "        print(f'Texto descifrado: {answer}')\n",
        "    else:\n",
        "        return\n",
        "    print()\n",
        "    CaesarMain()"
      ]
    },
    {
      "cell_type": "code",
      "source": [
        "CaesarMain()"
      ],
      "metadata": {
        "id": "XcCY_rDTtiha",
        "outputId": "a8e77ef4-c833-4100-d29a-b787009f31b9",
        "colab": {
          "base_uri": "https://localhost:8080/"
        }
      },
      "execution_count": 11,
      "outputs": [
        {
          "name": "stdout",
          "output_type": "stream",
          "text": [
            "Inicio de programa de cifrado-descifrado usando Playfair\n",
            "\n",
            "Elija el modo de operación (1 para cifrar, 2 para descifrar, 3 para salir): 1\n",
            "Ingresa el texto a cifrar: Return to Rome\n",
            "Ingresa el tamaño s de subcadena a usar (Si s<=0 la cadena no se partira): 0\n",
            "Ingresa el valor del parametro k: 3\n",
            "Texto cifrado: UHWXUQ WR URPH\n",
            "\n",
            "Inicio de programa de cifrado-descifrado usando Playfair\n",
            "\n",
            "Elija el modo de operación (1 para cifrar, 2 para descifrar, 3 para salir): 2\n",
            "Ingresa el texto a descifrar: UHWXUQ WR URPH\n",
            "Ingresa el tamaño s de subcadena a usar (Si s<=0 la cadena no se partira): 0\n",
            "Ingresa el valor del parametro k: 3\n",
            "Texto descifrado: RETURN TO ROME\n",
            "\n",
            "Inicio de programa de cifrado-descifrado usando Playfair\n",
            "\n",
            "Elija el modo de operación (1 para cifrar, 2 para descifrar, 3 para salir): 3\n"
          ]
        }
      ]
    }
  ],
  "metadata": {
    "kernelspec": {
      "display_name": "Python 3",
      "language": "python",
      "name": "python3"
    },
    "language_info": {
      "codemirror_mode": {
        "name": "ipython",
        "version": 3
      },
      "file_extension": ".py",
      "mimetype": "text/x-python",
      "name": "python",
      "nbconvert_exporter": "python",
      "pygments_lexer": "ipython3",
      "version": "3.12.5"
    },
    "colab": {
      "provenance": []
    }
  },
  "nbformat": 4,
  "nbformat_minor": 0
}