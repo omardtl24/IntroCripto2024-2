{
 "cells": [
  {
   "cell_type": "markdown",
   "metadata": {},
   "source": [
    "# Cifrado Caesar\n",
    "\n",
    "**Estudiante:** Omar David Toledo Leguizamón"
   ]
  },
  {
   "cell_type": "markdown",
   "metadata": {},
   "source": [
    "Implementar el algoritmo de cifrado del Caesar en Python. Utilizar un parámetro para identificar el parámetro $k$ (permutaciones).\n",
    "\n",
    "1. El algoritmo debe recibir como entrada para cifrar:\n",
    "\n",
    "* El mensaje en texto claro\n",
    "* El parámetro $k$\n",
    "\n",
    "2. Para decifrar:\n",
    "\n",
    "* Mensaje cifrado\n",
    "* El parámetro $k$"
   ]
  },
  {
   "cell_type": "markdown",
   "metadata": {},
   "source": [
    "## Desarrollo"
   ]
  },
  {
   "cell_type": "markdown",
   "metadata": {},
   "source": [
    "En primer lugar, vamos a realizar una función que dado un texto, pueda dividirlo en subcadenas de tamaño fijo de acuerdo a un parametro definido por el usuario"
   ]
  },
  {
   "cell_type": "code",
   "execution_count": 5,
   "metadata": {},
   "outputs": [],
   "source": [
    "def splitEntry(text='' , size = 5):\n",
    "    if size<=0: return text\n",
    "    text = ''.join(text.split(' '))\n",
    "    i=0\n",
    "    f = []\n",
    "    while i<len(text):\n",
    "        f.append(text[i:i+size])\n",
    "        i+=size\n",
    "    return f\n"
   ]
  },
  {
   "cell_type": "code",
   "execution_count": 23,
   "metadata": {},
   "outputs": [
    {
     "data": {
      "text/plain": [
       "'Retur ntoRo me'"
      ]
     },
     "execution_count": 23,
     "metadata": {},
     "output_type": "execute_result"
    }
   ],
   "source": [
    "text = \"Return to Rome\"\n",
    "' '.join(splitEntry(text=text , size = 5))"
   ]
  },
  {
   "cell_type": "code",
   "execution_count": 24,
   "metadata": {},
   "outputs": [
    {
     "data": {
      "text/plain": [
       "'Return to Rome'"
      ]
     },
     "execution_count": 24,
     "metadata": {},
     "output_type": "execute_result"
    }
   ],
   "source": [
    "text = \"Return to Rome\"\n",
    "splitEntry(text=text , size = 0)"
   ]
  },
  {
   "cell_type": "markdown",
   "metadata": {},
   "source": [
    "Ahora definimos una rutina que dada una subcadena de la entrada y el parámetro $k$, se obtenga la subcadena cifrada usando el algoritmo de Caesar"
   ]
  },
  {
   "cell_type": "code",
   "execution_count": 60,
   "metadata": {},
   "outputs": [],
   "source": [
    "def cipherCaesar(text = '', k = 3):\n",
    "    if type(text)==list: return ' '.join([cipherCaesar(s,k) for s in text])\n",
    "    text = text.upper()\n",
    "    cipherText = ''\n",
    "    for letter in text:\n",
    "        if letter!=' ':\n",
    "            v = ord(letter)-65\n",
    "            cipherText += chr(((v+k)%26)+65)\n",
    "        else: cipherText += letter\n",
    "    return cipherText"
   ]
  },
  {
   "cell_type": "code",
   "execution_count": 61,
   "metadata": {},
   "outputs": [
    {
     "data": {
      "text/plain": [
       "'UHWXUQ WR URPH'"
      ]
     },
     "execution_count": 61,
     "metadata": {},
     "output_type": "execute_result"
    }
   ],
   "source": [
    "text = 'Return to Rome'\n",
    "f = splitEntry(text, size = 0)\n",
    "cipherCaesar(text = f, k = 3)"
   ]
  },
  {
   "cell_type": "code",
   "execution_count": 62,
   "metadata": {},
   "outputs": [
    {
     "data": {
      "text/plain": [
       "'UHWXU QWRUR PH'"
      ]
     },
     "execution_count": 62,
     "metadata": {},
     "output_type": "execute_result"
    }
   ],
   "source": [
    "text = 'Return to Rome'\n",
    "f = splitEntry(text, size = 5)\n",
    "cipherCaesar(text = f, k = 3)"
   ]
  },
  {
   "cell_type": "markdown",
   "metadata": {},
   "source": [
    "Ahora definimos una rutina que dada una subcadena de la entrada y el parámetro $k$, se obtenga la subcadena descifrada usando el algoritmo de Caesar"
   ]
  },
  {
   "cell_type": "code",
   "execution_count": 53,
   "metadata": {},
   "outputs": [],
   "source": [
    "def decipherCaesar(cipherText = '', k = 3):\n",
    "    if type(cipherText)==list: return ' '.join([decipherCaesar(s,k) for s in cipherText])\n",
    "    cipherText = cipherText.upper()\n",
    "    text = ''\n",
    "    for letter in cipherText:\n",
    "        if letter!=' ':\n",
    "            v = ord(letter)-65\n",
    "            text += chr(((v-k)%26)+65)\n",
    "        else: text += letter\n",
    "    return text"
   ]
  },
  {
   "cell_type": "code",
   "execution_count": 54,
   "metadata": {},
   "outputs": [
    {
     "data": {
      "text/plain": [
       "'RETUR NTORO ME'"
      ]
     },
     "execution_count": 54,
     "metadata": {},
     "output_type": "execute_result"
    }
   ],
   "source": [
    "ciphertext = 'UHWXUQWRURPH'\n",
    "f = splitEntry(ciphertext, size = 5)\n",
    "decipherCaesar(cipherText = f, k = 3)"
   ]
  },
  {
   "cell_type": "code",
   "execution_count": 55,
   "metadata": {},
   "outputs": [
    {
     "data": {
      "text/plain": [
       "'RETURN TO ROME'"
      ]
     },
     "execution_count": 55,
     "metadata": {},
     "output_type": "execute_result"
    }
   ],
   "source": [
    "ciphertext = 'UHWXUQ WR URPH'\n",
    "f = splitEntry(ciphertext, size = 0)\n",
    "decipherCaesar(cipherText = f, k = 3)"
   ]
  },
  {
   "cell_type": "markdown",
   "metadata": {},
   "source": [
    "Finalmente hacemos una rutina main para unir el proceso de cifrado y descifrado"
   ]
  },
  {
   "cell_type": "code",
   "execution_count": null,
   "metadata": {},
   "outputs": [],
   "source": [
    "def CaesarMain():\n",
    "    print('Inicio de programa de cifrado-descifrado usando Playfair\\n')\n",
    "    mode = int(input('Elija el modo de operación (1 para cifrar, 2 para descifrar, 3 para salir): '))\n",
    "    if mode==1:\n",
    "        text = str(input('Ingresa el texto a cifrar: '))\n",
    "        s = int(input('Ingresa el tamaño s de subcadena a usar (Si s<=0 la cadena no se partirá)'))\n",
    "        k = str(input('Ingresa el valor del parametro k: '))\n",
    "        text = splitEntry(text,s)\n",
    "        answer = cipherCaesar(text,k)\n",
    "        print(f'Texto cifrado: {answer}')\n",
    "    elif mode==2:\n",
    "        text = str(input('Ingresa el texto a descifrar: '))\n",
    "        k = str(input('Ingresa el valor del parametro k: '))\n",
    "        text = splitEntry(text,s)\n",
    "        answer = decipherCaesar(text,k)\n",
    "        print(f'Texto descifrado: {answer}')\n",
    "    else:\n",
    "        return\n",
    "    print()\n",
    "    CaesarMain()"
   ]
  }
 ],
 "metadata": {
  "kernelspec": {
   "display_name": "Python 3",
   "language": "python",
   "name": "python3"
  },
  "language_info": {
   "codemirror_mode": {
    "name": "ipython",
    "version": 3
   },
   "file_extension": ".py",
   "mimetype": "text/x-python",
   "name": "python",
   "nbconvert_exporter": "python",
   "pygments_lexer": "ipython3",
   "version": "3.12.5"
  }
 },
 "nbformat": 4,
 "nbformat_minor": 2
}
