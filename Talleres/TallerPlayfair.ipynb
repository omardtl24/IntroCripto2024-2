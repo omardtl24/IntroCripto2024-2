{
 "cells": [
  {
   "cell_type": "markdown",
   "metadata": {},
   "source": [
    "# Taller Playfair\n",
    "\n",
    "**Estudiante:** Omar David Toledo Leguizamón"
   ]
  },
  {
   "cell_type": "markdown",
   "metadata": {},
   "source": [
    "Implementar el algoritmo de cifrado de bloques Playfair Cipher en Python. Utilizar un parámetro para identificar si es para cifrar o descifrar, por ejemplo, 1 o 0.\n",
    "\n",
    "1. El algoritmo debe recibir como entrada para cifrar:\n",
    "* El mensaje en texto claro\n",
    "* La clave\n",
    "2. Para decifrar:\n",
    "* Mensaje cifrado\n",
    "* La clave"
   ]
  },
  {
   "cell_type": "markdown",
   "metadata": {},
   "source": [
    "## Desarrollo"
   ]
  },
  {
   "cell_type": "markdown",
   "metadata": {},
   "source": [
    "Primero definimos una función que dada una frase llave de entrada, construya la matriz usada para cifrar. Adicionalmente, construiremos un diccionario que permita realizar acceso rapido de cada letra a su posicion asociada. (Con esto, hacemos que la identificación de la posición se haga en tiempo $O(1)$ y no en tiempo $O(n^2)$, siendo $n$ la dimensión de la matriz)"
   ]
  },
  {
   "cell_type": "code",
   "execution_count": 9,
   "metadata": {},
   "outputs": [],
   "source": [
    "import numpy as np\n",
    "\n",
    "def buildMatrix(key = \"\"):\n",
    "    key = key.upper()\n",
    "    m = np.zeros(shape = (5,5), dtype = '<U2')\n",
    "    fastAccessDict = {}\n",
    "    i = 0\n",
    "    j = 0\n",
    "    for char in key:\n",
    "        if char != ' ':\n",
    "            c = 'IJ' if char == 'I' or char=='J' else char\n",
    "            if c not in fastAccessDict:\n",
    "                for l in c:  fastAccessDict[l] = (i,j)\n",
    "                m[i,j] = c\n",
    "                j = (j+1)%5\n",
    "                if j==0: i=(i+1)%5\n",
    "    for k in range(65, 65+25):\n",
    "        c = chr(k)\n",
    "        if c not in fastAccessDict:\n",
    "            fastAccessDict[c] = (i,j)\n",
    "            m[i,j] = c\n",
    "            j = (j+1)%5\n",
    "            if j==0: i=(i+1)%5\n",
    "\n",
    "    return m, fastAccessDict\n"
   ]
  },
  {
   "cell_type": "markdown",
   "metadata": {},
   "source": [
    "Podemos ver como funciona el generador de la matriz con la clave *Yoan Pinzon*"
   ]
  },
  {
   "cell_type": "code",
   "execution_count": 10,
   "metadata": {},
   "outputs": [
    {
     "name": "stdout",
     "output_type": "stream",
     "text": [
      "[['Y' 'O' 'A' 'N' 'P']\n",
      " ['IJ' 'Z' 'B' 'C' 'D']\n",
      " ['E' 'F' 'G' 'H' 'K']\n",
      " ['L' 'M' 'Q' 'R' 'S']\n",
      " ['T' 'U' 'V' 'W' 'X']]\n"
     ]
    }
   ],
   "source": [
    "m,d = buildMatrix(\"Yoan Pinzon\")\n",
    "print(m)"
   ]
  },
  {
   "cell_type": "markdown",
   "metadata": {},
   "source": [
    "Ahora hacemos una función que dada una entrada, la separa en pares de letras válidas para ser cargadas en el algoritmo"
   ]
  },
  {
   "cell_type": "code",
   "execution_count": 11,
   "metadata": {},
   "outputs": [],
   "source": [
    "def splitEntry(text = \"\"):\n",
    "    text = text.upper()\n",
    "    text = ''.join(text.split(' '))\n",
    "    pairs = []\n",
    "    i = 0\n",
    "    while(i < len(text)-1):\n",
    "        if text[i]!=text[i+1]:\n",
    "            pairs.append(text[i]+text[i+1])\n",
    "            i+=2\n",
    "        else:\n",
    "            pairs.append(text[i]+'X')\n",
    "            i+=1\n",
    "    if i==len(text)-1: pairs.append(text[i]+'X')\n",
    "    return pairs"
   ]
  },
  {
   "cell_type": "markdown",
   "metadata": {},
   "source": [
    "La funcion agrega padding donde es necesario (Cuando hay dos letras consecutivas y pueden caer en pareja; y cuando se tienen una letra aislada al final del texto)"
   ]
  },
  {
   "cell_type": "code",
   "execution_count": 12,
   "metadata": {},
   "outputs": [
    {
     "data": {
      "text/plain": [
       "['LX', 'LA', 'MO', 'AU', 'NA', 'PE', 'RS', 'ON', 'AX']"
      ]
     },
     "execution_count": 12,
     "metadata": {},
     "output_type": "execute_result"
    }
   ],
   "source": [
    "splitEntry(text = \"Llamo a una persona\")"
   ]
  },
  {
   "cell_type": "markdown",
   "metadata": {},
   "source": [
    "Ahora realizamos la funcion que aplica el cifrado Playfair dada una cadena de entrada y una llave"
   ]
  },
  {
   "cell_type": "code",
   "execution_count": 13,
   "metadata": {},
   "outputs": [],
   "source": [
    "def playfairCipher(text = '', key = ''):\n",
    "    m, d = buildMatrix(key = key)\n",
    "    pairs = splitEntry(text = text)\n",
    "    codedPairs = []\n",
    "    for pair in pairs:\n",
    "        pos1 = d[pair[0]]\n",
    "        pos2 = d[pair[1]]\n",
    "        if pos1[0] == pos2[0]:\n",
    "            l1 = m[(pos1[0]+1)%5,pos1[1]]\n",
    "            l2 = m[(pos2[0]+1)%5,pos2[1]]\n",
    "        elif pos1[1] == pos2[1]:\n",
    "            l1 = m[pos1[0],(pos1[1]+1)%5]\n",
    "            l2 = m[pos2[0],(pos2[1]+1)%5]\n",
    "        else:\n",
    "            l1 = m[pos1[0],pos2[1]]\n",
    "            l2 = m[pos2[0],pos1[1]]\n",
    "        codedPairs.append(l1+l2)\n",
    "    return codedPairs\n"
   ]
  },
  {
   "cell_type": "code",
   "execution_count": 14,
   "metadata": {},
   "outputs": [
    {
     "data": {
      "text/plain": [
       "['NH', 'VO', 'BN', 'UF', 'LT']"
      ]
     },
     "execution_count": 14,
     "metadata": {},
     "output_type": "execute_result"
    }
   ],
   "source": [
    "playfairCipher(text = 'Aguacates', key = 'Yoan Pinzon')"
   ]
  },
  {
   "cell_type": "markdown",
   "metadata": {},
   "source": [
    "Ahora hacemos la rutina encargada de decifrar una entrada dada una clave"
   ]
  },
  {
   "cell_type": "code",
   "execution_count": 15,
   "metadata": {},
   "outputs": [],
   "source": [
    "def playfairDecipher(text = '', key = ''):\n",
    "    m, d = buildMatrix(key = key)\n",
    "    pairs = splitEntry(text = text)\n",
    "    codedPairs = []\n",
    "    for pair in pairs:\n",
    "        pos1 = d[pair[0]]\n",
    "        pos2 = d[pair[1]]\n",
    "        if pos1[0] == pos2[0]:\n",
    "            l1 = m[(pos1[0]-1)%5,pos1[1]]\n",
    "            l2 = m[(pos2[0]-1)%5,pos2[1]]\n",
    "        elif pos1[1] == pos2[1]:\n",
    "            l1 = m[pos1[0],(pos1[1]-1)%5]\n",
    "            l2 = m[pos2[0],(pos2[1]-1)%5]\n",
    "        else:\n",
    "            l1 = m[pos1[0],pos2[1]]\n",
    "            l2 = m[pos2[0],pos1[1]]\n",
    "        codedPairs.append(l1+l2)\n",
    "    return codedPairs\n"
   ]
  },
  {
   "cell_type": "code",
   "execution_count": 16,
   "metadata": {},
   "outputs": [
    {
     "data": {
      "text/plain": [
       "['AG', 'UA', 'CA', 'TE', 'SX']"
      ]
     },
     "execution_count": 16,
     "metadata": {},
     "output_type": "execute_result"
    }
   ],
   "source": [
    "playfairDecipher(text = 'NHVOBNUFLT', key = 'Yoan Pinzon')"
   ]
  },
  {
   "cell_type": "markdown",
   "metadata": {},
   "source": [
    "Finalmente diseñamos una función que maneje las entradas y salidas del problema"
   ]
  },
  {
   "cell_type": "code",
   "execution_count": 18,
   "metadata": {},
   "outputs": [],
   "source": [
    "def PlayfairMain():\n",
    "    print('Inicio de programa de cifrado-descifrado usando Playfair\\n')\n",
    "    mode = int(input('Elija el modo de operación (1 para cifrar, 2 para descifrar, 3 para salir): '))\n",
    "    if mode==1:\n",
    "        text = str(input('Ingresa el texto a cifrar: '))\n",
    "        key = str(input('Ingresa la llave para cifrar: '))\n",
    "        answer = playfairCipher(text,key)\n",
    "        print(f'Texto cifrado: {answer}')\n",
    "    elif mode==2:\n",
    "        text = str(input('Ingresa el texto a descifrar: '))\n",
    "        key = str(input('Ingresa la llave para descifrar: '))\n",
    "        answer = playfairDecipher(text,key)\n",
    "        print(f'Texto descifrado: {answer}')\n",
    "    else:\n",
    "        return\n",
    "    print()"
   ]
  },
  {
   "cell_type": "code",
   "execution_count": 19,
   "metadata": {},
   "outputs": [
    {
     "name": "stdout",
     "output_type": "stream",
     "text": [
      "Inicio de programa de cifrado-descifrado usando Playfair\n",
      "\n"
     ]
    },
    {
     "ename": "KeyboardInterrupt",
     "evalue": "Interrupted by user",
     "output_type": "error",
     "traceback": [
      "\u001b[1;31m---------------------------------------------------------------------------\u001b[0m",
      "\u001b[1;31mKeyboardInterrupt\u001b[0m                         Traceback (most recent call last)",
      "Cell \u001b[1;32mIn[19], line 1\u001b[0m\n\u001b[1;32m----> 1\u001b[0m \u001b[43mPlayfairMain\u001b[49m\u001b[43m(\u001b[49m\u001b[43m)\u001b[49m\n",
      "Cell \u001b[1;32mIn[18], line 3\u001b[0m, in \u001b[0;36mPlayfairMain\u001b[1;34m()\u001b[0m\n\u001b[0;32m      1\u001b[0m \u001b[38;5;28;01mdef\u001b[39;00m \u001b[38;5;21mPlayfairMain\u001b[39m():\n\u001b[0;32m      2\u001b[0m     \u001b[38;5;28mprint\u001b[39m(\u001b[38;5;124m'\u001b[39m\u001b[38;5;124mInicio de programa de cifrado-descifrado usando Playfair\u001b[39m\u001b[38;5;130;01m\\n\u001b[39;00m\u001b[38;5;124m'\u001b[39m)\n\u001b[1;32m----> 3\u001b[0m     mode \u001b[38;5;241m=\u001b[39m \u001b[38;5;28mint\u001b[39m(\u001b[38;5;28;43minput\u001b[39;49m\u001b[43m(\u001b[49m\u001b[38;5;124;43m'\u001b[39;49m\u001b[38;5;124;43mElija el modo de operación (1 para cifrar, 2 para descifrar, 3 para salir): \u001b[39;49m\u001b[38;5;124;43m'\u001b[39;49m\u001b[43m)\u001b[49m)\n\u001b[0;32m      4\u001b[0m     \u001b[38;5;28;01mif\u001b[39;00m mode\u001b[38;5;241m==\u001b[39m\u001b[38;5;241m1\u001b[39m:\n\u001b[0;32m      5\u001b[0m         text \u001b[38;5;241m=\u001b[39m \u001b[38;5;28mstr\u001b[39m(\u001b[38;5;28minput\u001b[39m(\u001b[38;5;124m'\u001b[39m\u001b[38;5;124mIngresa el texto a cifrar: \u001b[39m\u001b[38;5;124m'\u001b[39m))\n",
      "File \u001b[1;32m~\\AppData\\Local\\Packages\\PythonSoftwareFoundation.Python.3.10_qbz5n2kfra8p0\\LocalCache\\local-packages\\Python310\\site-packages\\ipykernel\\kernelbase.py:1191\u001b[0m, in \u001b[0;36mKernel.raw_input\u001b[1;34m(self, prompt)\u001b[0m\n\u001b[0;32m   1189\u001b[0m     msg \u001b[38;5;241m=\u001b[39m \u001b[38;5;124m\"\u001b[39m\u001b[38;5;124mraw_input was called, but this frontend does not support input requests.\u001b[39m\u001b[38;5;124m\"\u001b[39m\n\u001b[0;32m   1190\u001b[0m     \u001b[38;5;28;01mraise\u001b[39;00m StdinNotImplementedError(msg)\n\u001b[1;32m-> 1191\u001b[0m \u001b[38;5;28;01mreturn\u001b[39;00m \u001b[38;5;28;43mself\u001b[39;49m\u001b[38;5;241;43m.\u001b[39;49m\u001b[43m_input_request\u001b[49m\u001b[43m(\u001b[49m\n\u001b[0;32m   1192\u001b[0m \u001b[43m    \u001b[49m\u001b[38;5;28;43mstr\u001b[39;49m\u001b[43m(\u001b[49m\u001b[43mprompt\u001b[49m\u001b[43m)\u001b[49m\u001b[43m,\u001b[49m\n\u001b[0;32m   1193\u001b[0m \u001b[43m    \u001b[49m\u001b[38;5;28;43mself\u001b[39;49m\u001b[38;5;241;43m.\u001b[39;49m\u001b[43m_parent_ident\u001b[49m\u001b[43m[\u001b[49m\u001b[38;5;124;43m\"\u001b[39;49m\u001b[38;5;124;43mshell\u001b[39;49m\u001b[38;5;124;43m\"\u001b[39;49m\u001b[43m]\u001b[49m\u001b[43m,\u001b[49m\n\u001b[0;32m   1194\u001b[0m \u001b[43m    \u001b[49m\u001b[38;5;28;43mself\u001b[39;49m\u001b[38;5;241;43m.\u001b[39;49m\u001b[43mget_parent\u001b[49m\u001b[43m(\u001b[49m\u001b[38;5;124;43m\"\u001b[39;49m\u001b[38;5;124;43mshell\u001b[39;49m\u001b[38;5;124;43m\"\u001b[39;49m\u001b[43m)\u001b[49m\u001b[43m,\u001b[49m\n\u001b[0;32m   1195\u001b[0m \u001b[43m    \u001b[49m\u001b[43mpassword\u001b[49m\u001b[38;5;241;43m=\u001b[39;49m\u001b[38;5;28;43;01mFalse\u001b[39;49;00m\u001b[43m,\u001b[49m\n\u001b[0;32m   1196\u001b[0m \u001b[43m\u001b[49m\u001b[43m)\u001b[49m\n",
      "File \u001b[1;32m~\\AppData\\Local\\Packages\\PythonSoftwareFoundation.Python.3.10_qbz5n2kfra8p0\\LocalCache\\local-packages\\Python310\\site-packages\\ipykernel\\kernelbase.py:1234\u001b[0m, in \u001b[0;36mKernel._input_request\u001b[1;34m(self, prompt, ident, parent, password)\u001b[0m\n\u001b[0;32m   1231\u001b[0m \u001b[38;5;28;01mexcept\u001b[39;00m \u001b[38;5;167;01mKeyboardInterrupt\u001b[39;00m:\n\u001b[0;32m   1232\u001b[0m     \u001b[38;5;66;03m# re-raise KeyboardInterrupt, to truncate traceback\u001b[39;00m\n\u001b[0;32m   1233\u001b[0m     msg \u001b[38;5;241m=\u001b[39m \u001b[38;5;124m\"\u001b[39m\u001b[38;5;124mInterrupted by user\u001b[39m\u001b[38;5;124m\"\u001b[39m\n\u001b[1;32m-> 1234\u001b[0m     \u001b[38;5;28;01mraise\u001b[39;00m \u001b[38;5;167;01mKeyboardInterrupt\u001b[39;00m(msg) \u001b[38;5;28;01mfrom\u001b[39;00m \u001b[38;5;28mNone\u001b[39m\n\u001b[0;32m   1235\u001b[0m \u001b[38;5;28;01mexcept\u001b[39;00m \u001b[38;5;167;01mException\u001b[39;00m:\n\u001b[0;32m   1236\u001b[0m     \u001b[38;5;28mself\u001b[39m\u001b[38;5;241m.\u001b[39mlog\u001b[38;5;241m.\u001b[39mwarning(\u001b[38;5;124m\"\u001b[39m\u001b[38;5;124mInvalid Message:\u001b[39m\u001b[38;5;124m\"\u001b[39m, exc_info\u001b[38;5;241m=\u001b[39m\u001b[38;5;28;01mTrue\u001b[39;00m)\n",
      "\u001b[1;31mKeyboardInterrupt\u001b[0m: Interrupted by user"
     ]
    }
   ],
   "source": [
    "PlayfairMain()"
   ]
  }
 ],
 "metadata": {
  "kernelspec": {
   "display_name": "Python 3",
   "language": "python",
   "name": "python3"
  },
  "language_info": {
   "codemirror_mode": {
    "name": "ipython",
    "version": 3
   },
   "file_extension": ".py",
   "mimetype": "text/x-python",
   "name": "python",
   "nbconvert_exporter": "python",
   "pygments_lexer": "ipython3",
   "version": "3.10.11"
  }
 },
 "nbformat": 4,
 "nbformat_minor": 2
}
