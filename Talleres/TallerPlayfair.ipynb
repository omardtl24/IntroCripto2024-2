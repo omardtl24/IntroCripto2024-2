{
  "cells": [
    {
      "cell_type": "markdown",
      "metadata": {
        "id": "Z11rQkrsxp_h"
      },
      "source": [
        "# Taller Playfair\n",
        "\n",
        "**Estudiante:** Omar David Toledo Leguizamón"
      ]
    },
    {
      "cell_type": "markdown",
      "metadata": {
        "id": "Z_q5Dkboxp_j"
      },
      "source": [
        "Implementar el algoritmo de cifrado de bloques Playfair Cipher en Python. Utilizar un parámetro para identificar si es para cifrar o descifrar, por ejemplo, 1 o 0.\n",
        "\n",
        "1. El algoritmo debe recibir como entrada para cifrar:\n",
        "* El mensaje en texto claro\n",
        "* La clave\n",
        "2. Para decifrar:\n",
        "* Mensaje cifrado\n",
        "* La clave"
      ]
    },
    {
      "cell_type": "markdown",
      "metadata": {
        "id": "n9Avqa2Dxp_j"
      },
      "source": [
        "## Desarrollo"
      ]
    },
    {
      "cell_type": "markdown",
      "metadata": {
        "id": "4f8SKPAVxp_j"
      },
      "source": [
        "Primero definimos una función que dada una frase llave de entrada, construya la matriz usada para cifrar. Adicionalmente, construiremos un diccionario que permita realizar acceso rapido de cada letra a su posicion asociada. (Con esto, hacemos que la identificación de la posición se haga en tiempo $O(1)$ y no en tiempo $O(n^2)$, siendo $n$ la dimensión de la matriz)"
      ]
    },
    {
      "cell_type": "code",
      "execution_count": 1,
      "metadata": {
        "id": "ms33eNeZxp_j"
      },
      "outputs": [],
      "source": [
        "import numpy as np\n",
        "\n",
        "def buildMatrix(key = \"\"):\n",
        "    key = key.upper()\n",
        "    m = np.zeros(shape = (5,5), dtype = '<U2')\n",
        "    fastAccessDict = {}\n",
        "    i = 0\n",
        "    j = 0\n",
        "    for char in key:\n",
        "        if char != ' ':\n",
        "            c = 'IJ' if char == 'I' or char=='J' else char\n",
        "            if c not in fastAccessDict:\n",
        "                for l in c:  fastAccessDict[l] = (i,j)\n",
        "                m[i,j] = c\n",
        "                j = (j+1)%5\n",
        "                if j==0: i=(i+1)%5\n",
        "    for k in range(65, 65+25):\n",
        "        c = chr(k)\n",
        "        if c not in fastAccessDict:\n",
        "            fastAccessDict[c] = (i,j)\n",
        "            m[i,j] = c\n",
        "            j = (j+1)%5\n",
        "            if j==0: i=(i+1)%5\n",
        "\n",
        "    return m, fastAccessDict\n"
      ]
    },
    {
      "cell_type": "markdown",
      "metadata": {
        "id": "9GrPi81Gxp_k"
      },
      "source": [
        "Podemos ver como funciona el generador de la matriz con la clave *Yoan Pinzon*"
      ]
    },
    {
      "cell_type": "code",
      "execution_count": 2,
      "metadata": {
        "id": "X7NzS7IAxp_k",
        "outputId": "b1dac312-2af2-4f59-b73e-beb050100ff9",
        "colab": {
          "base_uri": "https://localhost:8080/"
        }
      },
      "outputs": [
        {
          "output_type": "stream",
          "name": "stdout",
          "text": [
            "[['Y' 'O' 'A' 'N' 'P']\n",
            " ['IJ' 'Z' 'B' 'C' 'D']\n",
            " ['E' 'F' 'G' 'H' 'K']\n",
            " ['L' 'M' 'Q' 'R' 'S']\n",
            " ['T' 'U' 'V' 'W' 'X']]\n"
          ]
        }
      ],
      "source": [
        "m,d = buildMatrix(\"Yoan Pinzon\")\n",
        "print(m)"
      ]
    },
    {
      "cell_type": "markdown",
      "metadata": {
        "id": "CwEblDZNxp_l"
      },
      "source": [
        "Ahora hacemos una función que dada una entrada, la separa en pares de letras válidas para ser cargadas en el algoritmo"
      ]
    },
    {
      "cell_type": "code",
      "execution_count": 3,
      "metadata": {
        "id": "LDkCU3YVxp_l"
      },
      "outputs": [],
      "source": [
        "def splitEntry(text = \"\"):\n",
        "    text = text.upper()\n",
        "    text = ''.join(text.split(' '))\n",
        "    pairs = []\n",
        "    i = 0\n",
        "    while(i < len(text)-1):\n",
        "        if text[i]!=text[i+1]:\n",
        "            pairs.append(text[i]+text[i+1])\n",
        "            i+=2\n",
        "        else:\n",
        "            pairs.append(text[i]+'X')\n",
        "            i+=1\n",
        "    if i==len(text)-1: pairs.append(text[i]+'X')\n",
        "    return pairs"
      ]
    },
    {
      "cell_type": "markdown",
      "metadata": {
        "id": "0ZZ-jRjRxp_l"
      },
      "source": [
        "La funcion agrega padding donde es necesario (Cuando hay dos letras consecutivas y pueden caer en pareja; y cuando se tienen una letra aislada al final del texto)"
      ]
    },
    {
      "cell_type": "code",
      "execution_count": 4,
      "metadata": {
        "id": "J8G2Fi-wxp_l",
        "outputId": "a2441503-1c82-455c-d571-90ed2cdbb85a",
        "colab": {
          "base_uri": "https://localhost:8080/",
          "height": 35
        }
      },
      "outputs": [
        {
          "output_type": "execute_result",
          "data": {
            "text/plain": [
              "'TH IS SE CR ET ME SX SA GE IS EN CR YP TE DX'"
            ],
            "application/vnd.google.colaboratory.intrinsic+json": {
              "type": "string"
            }
          },
          "metadata": {},
          "execution_count": 4
        }
      ],
      "source": [
        "' '.join(splitEntry(text = \"This secret message is encrypted\"))"
      ]
    },
    {
      "cell_type": "markdown",
      "metadata": {
        "id": "9OCdnaqoxp_l"
      },
      "source": [
        "Ahora realizamos la funcion que aplica el cifrado Playfair dada una cadena de entrada y una llave"
      ]
    },
    {
      "cell_type": "code",
      "execution_count": 5,
      "metadata": {
        "id": "QyeCqv4Vxp_m"
      },
      "outputs": [],
      "source": [
        "def playfairCipher(text = '', key = ''):\n",
        "    m, d = buildMatrix(key = key)\n",
        "    pairs = splitEntry(text = text)\n",
        "    codedPairs = []\n",
        "    for pair in pairs:\n",
        "        pos1 = d[pair[0]]\n",
        "        pos2 = d[pair[1]]\n",
        "        if pos1[1] == pos2[1]:\n",
        "            l1 = m[(pos1[0]+1)%5,pos1[1]]\n",
        "            l2 = m[(pos2[0]+1)%5,pos2[1]]\n",
        "        elif pos1[0] == pos2[0]:\n",
        "            l1 = m[pos1[0],(pos1[1]+1)%5]\n",
        "            l2 = m[pos2[0],(pos2[1]+1)%5]\n",
        "        else:\n",
        "            l1 = m[pos1[0],pos2[1]]\n",
        "            l2 = m[pos2[0],pos1[1]]\n",
        "        codedPairs.append(l1+l2)\n",
        "    return codedPairs\n"
      ]
    },
    {
      "cell_type": "code",
      "execution_count": 6,
      "metadata": {
        "id": "paeM1Xjkxp_m",
        "outputId": "25e776f6-a18f-4f96-b4df-70e638e965d6",
        "colab": {
          "base_uri": "https://localhost:8080/",
          "height": 35
        }
      },
      "outputs": [
        {
          "output_type": "execute_result",
          "data": {
            "text/plain": [
              "'WE DL LK HW LY LF XP QP HF DL HY HW OY YL KP'"
            ],
            "application/vnd.google.colaboratory.intrinsic+json": {
              "type": "string"
            }
          },
          "metadata": {},
          "execution_count": 6
        }
      ],
      "source": [
        "' '.join(playfairCipher(text = 'This secret message is encrypted', key = 'Yoan Pinzon'))"
      ]
    },
    {
      "cell_type": "markdown",
      "metadata": {
        "id": "7BzWnrrvxp_m"
      },
      "source": [
        "Ahora hacemos la rutina encargada de decifrar una entrada dada una clave"
      ]
    },
    {
      "cell_type": "code",
      "execution_count": 7,
      "metadata": {
        "id": "T6DdBeyXxp_m"
      },
      "outputs": [],
      "source": [
        "def playfairDecipher(text = '', key = ''):\n",
        "    m, d = buildMatrix(key = key)\n",
        "    pairs = splitEntry(text = text)\n",
        "    codedPairs = []\n",
        "    for pair in pairs:\n",
        "        pos1 = d[pair[0]]\n",
        "        pos2 = d[pair[1]]\n",
        "        if pos1[1] == pos2[1]:\n",
        "            l1 = m[(pos1[0]-1)%5,pos1[1]]\n",
        "            l2 = m[(pos2[0]-1)%5,pos2[1]]\n",
        "        elif pos1[0] == pos2[0]:\n",
        "            l1 = m[pos1[0],(pos1[1]-1)%5]\n",
        "            l2 = m[pos2[0],(pos2[1]-1)%5]\n",
        "        else:\n",
        "            l1 = m[pos1[0],pos2[1]]\n",
        "            l2 = m[pos2[0],pos1[1]]\n",
        "        codedPairs.append(l1+l2)\n",
        "    return codedPairs\n"
      ]
    },
    {
      "cell_type": "code",
      "execution_count": 8,
      "metadata": {
        "id": "64aATQtrxp_m",
        "outputId": "a5c7c8fd-ea06-4798-8225-e83544f69299",
        "colab": {
          "base_uri": "https://localhost:8080/",
          "height": 35
        }
      },
      "outputs": [
        {
          "output_type": "execute_result",
          "data": {
            "text/plain": [
              "'TH IJS SE CR ET ME SX SA GE IJS EN CR YP TE DX'"
            ],
            "application/vnd.google.colaboratory.intrinsic+json": {
              "type": "string"
            }
          },
          "metadata": {},
          "execution_count": 8
        }
      ],
      "source": [
        "' '.join(playfairDecipher(text = 'WE DL LK HW LY LF XP QP HF DL HY HW OY YL KP',\n",
        "                         key = 'Yoan Pinzon'))"
      ]
    },
    {
      "cell_type": "markdown",
      "metadata": {
        "id": "xhDJzXRjxp_m"
      },
      "source": [
        "Finalmente diseñamos una función que maneje las entradas y salidas del problema"
      ]
    },
    {
      "cell_type": "code",
      "execution_count": 13,
      "metadata": {
        "id": "1CFrDBxIxp_m"
      },
      "outputs": [],
      "source": [
        "def PlayfairMain():\n",
        "    print('Inicio de programa de cifrado-descifrado usando Playfair\\n')\n",
        "    mode = int(input('Elija el modo de operación (1 para cifrar, 2 para descifrar, 3 para salir): '))\n",
        "    if mode==1:\n",
        "        text = str(input('Ingresa el texto a cifrar: '))\n",
        "        key = str(input('Ingresa la llave para cifrar: '))\n",
        "        answer = playfairCipher(text,key)\n",
        "        answer = ' '.join(answer)\n",
        "        print(f'Texto cifrado: {answer}')\n",
        "    elif mode==2:\n",
        "        text = str(input('Ingresa el texto a descifrar: '))\n",
        "        key = str(input('Ingresa la llave para descifrar: '))\n",
        "        answer = playfairDecipher(text,key)\n",
        "        answer = ' '.join(answer)\n",
        "        print(f'Texto descifrado: {answer}')\n",
        "    else:\n",
        "        return\n",
        "    print()\n",
        "    PlayfairMain()"
      ]
    },
    {
      "cell_type": "code",
      "execution_count": 14,
      "metadata": {
        "id": "-_Xcis7Xxp_m",
        "outputId": "2297c520-4433-4634-f159-628776adad89",
        "colab": {
          "base_uri": "https://localhost:8080/"
        }
      },
      "outputs": [
        {
          "name": "stdout",
          "output_type": "stream",
          "text": [
            "Inicio de programa de cifrado-descifrado usando Playfair\n",
            "\n",
            "Elija el modo de operación (1 para cifrar, 2 para descifrar, 3 para salir): 1\n",
            "Ingresa el texto a cifrar: This secret is encrypted\n",
            "Ingresa la llave para cifrar: Yoan Pinzon\n",
            "Texto cifrado: WE DL LK HW LY DL HY HW OY YL KP\n",
            "\n",
            "Inicio de programa de cifrado-descifrado usando Playfair\n",
            "\n",
            "Elija el modo de operación (1 para cifrar, 2 para descifrar, 3 para salir): 2\n",
            "Ingresa el texto a descifrar: WE DL LK HW LY DL HY HW OY YL KP\n",
            "Ingresa la llave para descifrar: Yoan Pinzon\n",
            "Texto descifrado: TH IJS SE CR ET IJS EN CR YP TE DX\n",
            "\n",
            "Inicio de programa de cifrado-descifrado usando Playfair\n",
            "\n",
            "Elija el modo de operación (1 para cifrar, 2 para descifrar, 3 para salir): 3\n"
          ]
        }
      ],
      "source": [
        "PlayfairMain()"
      ]
    }
  ],
  "metadata": {
    "kernelspec": {
      "display_name": "Python 3",
      "language": "python",
      "name": "python3"
    },
    "language_info": {
      "codemirror_mode": {
        "name": "ipython",
        "version": 3
      },
      "file_extension": ".py",
      "mimetype": "text/x-python",
      "name": "python",
      "nbconvert_exporter": "python",
      "pygments_lexer": "ipython3",
      "version": "3.10.11"
    },
    "colab": {
      "provenance": []
    }
  },
  "nbformat": 4,
  "nbformat_minor": 0
}