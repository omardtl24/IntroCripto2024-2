{
 "cells": [
  {
   "cell_type": "markdown",
   "metadata": {},
   "source": [
    "# Taller Playfair\n",
    "\n",
    "**Estudiante:** Omar David Toledo Leguizamón"
   ]
  },
  {
   "cell_type": "markdown",
   "metadata": {},
   "source": [
    "Implementar el algoritmo de cifrado de bloques Playfair Cipher en Python. Utilizar un parámetro para identificar si es para cifrar o descifrar, por ejemplo, 1 o 0.\n",
    "\n",
    "1. El algoritmo debe recibir como entrada para cifrar:\n",
    "* El mensaje en texto claro\n",
    "* La clave\n",
    "2. Para decifrar:\n",
    "* Mensaje cifrado\n",
    "* La clave"
   ]
  },
  {
   "cell_type": "markdown",
   "metadata": {},
   "source": [
    "## Desarrollo"
   ]
  },
  {
   "cell_type": "markdown",
   "metadata": {},
   "source": [
    "Primero definimos una función que dada una frase llave de entrada, construya la matriz usada para cifrar. Adicionalmente, construiremos un diccionario que permita realizar acceso rapido de cada letra a su posicion asociada. (Con esto, hacemos que la identificación de la posición se haga en tiempo $O(1)$ y no en tiempo $O(n^2)$, siendo $n$ la dimensión de la matriz)"
   ]
  },
  {
   "cell_type": "code",
   "execution_count": 1,
   "metadata": {},
   "outputs": [],
   "source": [
    "import numpy as np\n",
    "\n",
    "def buildMatrix(key = \"\"):\n",
    "    key = key.upper()\n",
    "    m = np.zeros(shape = (5,5), dtype = '<U2')\n",
    "    fastAccessDict = {}\n",
    "    i = 0\n",
    "    j = 0\n",
    "    for char in key:\n",
    "        if char != ' ':\n",
    "            c = 'IJ' if char == 'I' or char=='J' else char\n",
    "            if c not in fastAccessDict:\n",
    "                for l in c:  fastAccessDict[l] = (i,j)\n",
    "                m[i,j] = c\n",
    "                j = (j+1)%5\n",
    "                if j==0: i=(i+1)%5\n",
    "    for k in range(65, 65+25):\n",
    "        c = chr(k)\n",
    "        if c not in fastAccessDict:\n",
    "            fastAccessDict[c] = (i,j)\n",
    "            m[i,j] = c\n",
    "            j = (j+1)%5\n",
    "            if j==0: i=(i+1)%5\n",
    "\n",
    "    return m, fastAccessDict\n"
   ]
  },
  {
   "cell_type": "markdown",
   "metadata": {},
   "source": [
    "Podemos ver como funciona el generador de la matriz con la clave *Yoan Pinzon*"
   ]
  },
  {
   "cell_type": "code",
   "execution_count": 2,
   "metadata": {},
   "outputs": [
    {
     "name": "stdout",
     "output_type": "stream",
     "text": [
      "[['Y' 'O' 'A' 'N' 'P']\n",
      " ['IJ' 'Z' 'B' 'C' 'D']\n",
      " ['E' 'F' 'G' 'H' 'K']\n",
      " ['L' 'M' 'Q' 'R' 'S']\n",
      " ['T' 'U' 'V' 'W' 'X']]\n"
     ]
    }
   ],
   "source": [
    "m,d = buildMatrix(\"Yoan Pinzon\")\n",
    "print(m)"
   ]
  },
  {
   "cell_type": "markdown",
   "metadata": {},
   "source": [
    "Ahora hacemos una función que dada una entrada, la separa en pares de letras válidas para ser cargadas en el algoritmo"
   ]
  },
  {
   "cell_type": "code",
   "execution_count": 3,
   "metadata": {},
   "outputs": [],
   "source": [
    "def splitEntry(text = \"\"):\n",
    "    text = text.upper()\n",
    "    text = ''.join(text.split(' '))\n",
    "    pairs = []\n",
    "    i = 0\n",
    "    while(i < len(text)-1):\n",
    "        if text[i]!=text[i+1]:\n",
    "            pairs.append(text[i]+text[i+1])\n",
    "            i+=2\n",
    "        else:\n",
    "            pairs.append(text[i]+'X')\n",
    "            i+=1\n",
    "    if i==len(text)-1: pairs.append(text[i]+'X')\n",
    "    return pairs"
   ]
  },
  {
   "cell_type": "markdown",
   "metadata": {},
   "source": [
    "La funcion agrega padding donde es necesario (Cuando hay dos letras consecutivas y pueden caer en pareja; y cuando se tienen una letra aislada al final del texto)"
   ]
  },
  {
   "cell_type": "code",
   "execution_count": 12,
   "metadata": {},
   "outputs": [
    {
     "data": {
      "text/plain": [
       "'TH IS SE CR ET ME SX SA GE IS EN CR YP TE DX'"
      ]
     },
     "execution_count": 12,
     "metadata": {},
     "output_type": "execute_result"
    }
   ],
   "source": [
    "' '.join(splitEntry(text = \"This secret message is encrypted\"))"
   ]
  },
  {
   "cell_type": "markdown",
   "metadata": {},
   "source": [
    "Ahora realizamos la funcion que aplica el cifrado Playfair dada una cadena de entrada y una llave"
   ]
  },
  {
   "cell_type": "code",
   "execution_count": 23,
   "metadata": {},
   "outputs": [],
   "source": [
    "def playfairCipher(text = '', key = ''):\n",
    "    m, d = buildMatrix(key = key)\n",
    "    pairs = splitEntry(text = text)\n",
    "    codedPairs = []\n",
    "    for pair in pairs:\n",
    "        pos1 = d[pair[0]]\n",
    "        pos2 = d[pair[1]]\n",
    "        if pos1[1] == pos2[1]:\n",
    "            l1 = m[(pos1[0]+1)%5,pos1[1]]\n",
    "            l2 = m[(pos2[0]+1)%5,pos2[1]]\n",
    "        elif pos1[0] == pos2[0]:\n",
    "            l1 = m[pos1[0],(pos1[1]+1)%5]\n",
    "            l2 = m[pos2[0],(pos2[1]+1)%5]\n",
    "        else:\n",
    "            l1 = m[pos1[0],pos2[1]]\n",
    "            l2 = m[pos2[0],pos1[1]]\n",
    "        codedPairs.append(l1+l2)\n",
    "    return codedPairs\n"
   ]
  },
  {
   "cell_type": "code",
   "execution_count": 26,
   "metadata": {},
   "outputs": [
    {
     "data": {
      "text/plain": [
       "'WE DL LK HW LY LF XP QP HF DL HY HW OY YL KP'"
      ]
     },
     "execution_count": 26,
     "metadata": {},
     "output_type": "execute_result"
    }
   ],
   "source": [
    "' '.join(playfairCipher(text = 'This secret message is encrypted', key = 'Yoan Pinzon'))"
   ]
  },
  {
   "cell_type": "markdown",
   "metadata": {},
   "source": [
    "Ahora hacemos la rutina encargada de decifrar una entrada dada una clave"
   ]
  },
  {
   "cell_type": "code",
   "execution_count": 27,
   "metadata": {},
   "outputs": [],
   "source": [
    "def playfairDecipher(text = '', key = ''):\n",
    "    m, d = buildMatrix(key = key)\n",
    "    pairs = splitEntry(text = text)\n",
    "    codedPairs = []\n",
    "    for pair in pairs:\n",
    "        pos1 = d[pair[0]]\n",
    "        pos2 = d[pair[1]]\n",
    "        if pos1[1] == pos2[1]:\n",
    "            l1 = m[(pos1[0]-1)%5,pos1[1]]\n",
    "            l2 = m[(pos2[0]-1)%5,pos2[1]]\n",
    "        elif pos1[0] == pos2[0]:\n",
    "            l1 = m[pos1[0],(pos1[1]-1)%5]\n",
    "            l2 = m[pos2[0],(pos2[1]-1)%5]\n",
    "        else:\n",
    "            l1 = m[pos1[0],pos2[1]]\n",
    "            l2 = m[pos2[0],pos1[1]]\n",
    "        codedPairs.append(l1+l2)\n",
    "    return codedPairs\n"
   ]
  },
  {
   "cell_type": "code",
   "execution_count": 28,
   "metadata": {},
   "outputs": [
    {
     "data": {
      "text/plain": [
       "'TH IJS SE CR ET ME SX SA GE IJS EN CR YP TE DX'"
      ]
     },
     "execution_count": 28,
     "metadata": {},
     "output_type": "execute_result"
    }
   ],
   "source": [
    "' '.join(playfairDecipher(text = 'WE DL LK HW LY LF XP QP HF DL HY HW OY YL KP',\n",
    "                         key = 'Yoan Pinzon'))"
   ]
  },
  {
   "cell_type": "markdown",
   "metadata": {},
   "source": [
    "Finalmente diseñamos una función que maneje las entradas y salidas del problema"
   ]
  },
  {
   "cell_type": "code",
   "execution_count": 9,
   "metadata": {},
   "outputs": [],
   "source": [
    "def PlayfairMain():\n",
    "    print('Inicio de programa de cifrado-descifrado usando Playfair\\n')\n",
    "    mode = int(input('Elija el modo de operación (1 para cifrar, 2 para descifrar, 3 para salir): '))\n",
    "    if mode==1:\n",
    "        text = str(input('Ingresa el texto a cifrar: '))\n",
    "        key = str(input('Ingresa la llave para cifrar: '))\n",
    "        answer = playfairCipher(text,key)\n",
    "        print(f'Texto cifrado: {answer}')\n",
    "    elif mode==2:\n",
    "        text = str(input('Ingresa el texto a descifrar: '))\n",
    "        key = str(input('Ingresa la llave para descifrar: '))\n",
    "        answer = playfairDecipher(text,key)\n",
    "        print(f'Texto descifrado: {answer}')\n",
    "    else:\n",
    "        return\n",
    "    print()"
   ]
  },
  {
   "cell_type": "code",
   "execution_count": 10,
   "metadata": {},
   "outputs": [
    {
     "name": "stdout",
     "output_type": "stream",
     "text": [
      "Inicio de programa de cifrado-descifrado usando Playfair\n",
      "\n"
     ]
    },
    {
     "ename": "ValueError",
     "evalue": "invalid literal for int() with base 10: ''",
     "output_type": "error",
     "traceback": [
      "\u001b[1;31m---------------------------------------------------------------------------\u001b[0m",
      "\u001b[1;31mValueError\u001b[0m                                Traceback (most recent call last)",
      "Cell \u001b[1;32mIn[10], line 1\u001b[0m\n\u001b[1;32m----> 1\u001b[0m \u001b[43mPlayfairMain\u001b[49m\u001b[43m(\u001b[49m\u001b[43m)\u001b[49m\n",
      "Cell \u001b[1;32mIn[9], line 3\u001b[0m, in \u001b[0;36mPlayfairMain\u001b[1;34m()\u001b[0m\n\u001b[0;32m      1\u001b[0m \u001b[38;5;28;01mdef\u001b[39;00m \u001b[38;5;21mPlayfairMain\u001b[39m():\n\u001b[0;32m      2\u001b[0m     \u001b[38;5;28mprint\u001b[39m(\u001b[38;5;124m'\u001b[39m\u001b[38;5;124mInicio de programa de cifrado-descifrado usando Playfair\u001b[39m\u001b[38;5;130;01m\\n\u001b[39;00m\u001b[38;5;124m'\u001b[39m)\n\u001b[1;32m----> 3\u001b[0m     mode \u001b[38;5;241m=\u001b[39m \u001b[38;5;28;43mint\u001b[39;49m\u001b[43m(\u001b[49m\u001b[38;5;28;43minput\u001b[39;49m\u001b[43m(\u001b[49m\u001b[38;5;124;43m'\u001b[39;49m\u001b[38;5;124;43mElija el modo de operación (1 para cifrar, 2 para descifrar, 3 para salir): \u001b[39;49m\u001b[38;5;124;43m'\u001b[39;49m\u001b[43m)\u001b[49m\u001b[43m)\u001b[49m\n\u001b[0;32m      4\u001b[0m     \u001b[38;5;28;01mif\u001b[39;00m mode\u001b[38;5;241m==\u001b[39m\u001b[38;5;241m1\u001b[39m:\n\u001b[0;32m      5\u001b[0m         text \u001b[38;5;241m=\u001b[39m \u001b[38;5;28mstr\u001b[39m(\u001b[38;5;28minput\u001b[39m(\u001b[38;5;124m'\u001b[39m\u001b[38;5;124mIngresa el texto a cifrar: \u001b[39m\u001b[38;5;124m'\u001b[39m))\n",
      "\u001b[1;31mValueError\u001b[0m: invalid literal for int() with base 10: ''"
     ]
    }
   ],
   "source": [
    "PlayfairMain()"
   ]
  }
 ],
 "metadata": {
  "kernelspec": {
   "display_name": "Python 3",
   "language": "python",
   "name": "python3"
  },
  "language_info": {
   "codemirror_mode": {
    "name": "ipython",
    "version": 3
   },
   "file_extension": ".py",
   "mimetype": "text/x-python",
   "name": "python",
   "nbconvert_exporter": "python",
   "pygments_lexer": "ipython3",
   "version": "3.10.11"
  }
 },
 "nbformat": 4,
 "nbformat_minor": 2
}
