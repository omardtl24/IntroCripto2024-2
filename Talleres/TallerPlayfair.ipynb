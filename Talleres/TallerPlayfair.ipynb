{
 "cells": [
  {
   "cell_type": "markdown",
   "metadata": {},
   "source": [
    "# Taller Playfair\n",
    "\n",
    "**Estudiante:** Omar David Toledo Leguizamón"
   ]
  },
  {
   "cell_type": "markdown",
   "metadata": {},
   "source": [
    "Implementar el algoritmo de cifrado de bloques Playfair Cipher en Python. Utilizar un parámetro para identificar si es para cifrar o descifrar, por ejemplo, 1 o 0.\n",
    "\n",
    "1. El algoritmo debe recibir como entrada para cifrar:\n",
    "* El mensaje en texto claro\n",
    "* La clave\n",
    "2. Para decifrar:\n",
    "* Mensaje cifrado\n",
    "* La clave"
   ]
  },
  {
   "cell_type": "markdown",
   "metadata": {},
   "source": [
    "## Desarrollo"
   ]
  },
  {
   "cell_type": "markdown",
   "metadata": {},
   "source": [
    "Primero definimos una función que dada una frase llave de entrada, construya la matriz usada para cifrar. Adicionalmente, construiremos un diccionario que permita realizar acceso rapido de cada letra a su posicion asociada. (Con esto, hacemos que la identificación de la posición se haga en tiempo $O(1)$ y no en tiempo $O(n^2)$, siendo $n$ la dimensión de la matriz)"
   ]
  },
  {
   "cell_type": "code",
   "execution_count": 22,
   "metadata": {},
   "outputs": [],
   "source": [
    "import numpy as np\n",
    "\n",
    "def buildMatrix(key = \"\"):\n",
    "    key = key.upper()\n",
    "    m = np.zeros(shape = (5,5), dtype = '<U2')\n",
    "    fastAccessDict = {}\n",
    "    i = 0\n",
    "    j = 0\n",
    "    for char in key:\n",
    "        if char != ' ':\n",
    "            c = 'IJ' if char == 'I' or char=='J' else char\n",
    "            if c not in fastAccessDict:\n",
    "                for l in c:  fastAccessDict[l] = (i,j)\n",
    "                m[i,j] = c\n",
    "                j = (j+1)%5\n",
    "                if j==0: i=(i+1)%5\n",
    "    for k in range(65, 65+25):\n",
    "        c = chr(k)\n",
    "        if c not in fastAccessDict:\n",
    "            fastAccessDict[c] = (i,j)\n",
    "            m[i,j] = c\n",
    "            j = (j+1)%5\n",
    "            if j==0: i=(i+1)%5\n",
    "\n",
    "    return m, fastAccessDict\n"
   ]
  },
  {
   "cell_type": "markdown",
   "metadata": {},
   "source": [
    "Podemos ver como funciona el generador de la matriz con la clave *Yoan Pinzon*"
   ]
  },
  {
   "cell_type": "code",
   "execution_count": 27,
   "metadata": {},
   "outputs": [
    {
     "name": "stdout",
     "output_type": "stream",
     "text": [
      "[['Y' 'O' 'A' 'N' 'P']\n",
      " ['IJ' 'Z' 'B' 'C' 'D']\n",
      " ['E' 'F' 'G' 'H' 'K']\n",
      " ['L' 'M' 'Q' 'R' 'S']\n",
      " ['T' 'U' 'V' 'W' 'X']]\n"
     ]
    }
   ],
   "source": [
    "m,d = buildMatrix(\"Yoan Pinzon\")\n",
    "print(m)"
   ]
  },
  {
   "cell_type": "markdown",
   "metadata": {},
   "source": [
    "Ahora hacemos una función que dada una entrada, la separa en pares de letras válidas para ser cargadas en el algoritmo"
   ]
  },
  {
   "cell_type": "code",
   "execution_count": 66,
   "metadata": {},
   "outputs": [],
   "source": [
    "def splitEntry(text = \"\"):\n",
    "    text = text.upper()\n",
    "    text = ''.join(text.split(' '))\n",
    "    pairs = []\n",
    "    i = 0\n",
    "    while(i < len(text)-1):\n",
    "        if text[i]!=text[i+1]:\n",
    "            pairs.append(text[i]+text[i+1])\n",
    "            i+=2\n",
    "        else:\n",
    "            pairs.append(text[i]+'X')\n",
    "            i+=1\n",
    "    if i==len(text)-1: pairs.append(text[i]+'X')\n",
    "    return pairs"
   ]
  },
  {
   "cell_type": "markdown",
   "metadata": {},
   "source": [
    "La funcion agrega padding donde es necesario (Cuando hay dos letras consecutivas y pueden caer en pareja; y cuando se tienen una letra aislada al final del texto)"
   ]
  },
  {
   "cell_type": "code",
   "execution_count": 70,
   "metadata": {},
   "outputs": [
    {
     "data": {
      "text/plain": [
       "['LX', 'LA', 'MO', 'AU', 'NA', 'PE', 'RS', 'ON', 'AX']"
      ]
     },
     "execution_count": 70,
     "metadata": {},
     "output_type": "execute_result"
    }
   ],
   "source": [
    "splitEntry(text = \"Llamo a una persona\")"
   ]
  },
  {
   "cell_type": "markdown",
   "metadata": {},
   "source": [
    "Ahora realizamos la funcion que aplica el cifrado Playfair dada una cadena de entrada y una llave"
   ]
  },
  {
   "cell_type": "code",
   "execution_count": 71,
   "metadata": {},
   "outputs": [],
   "source": [
    "def playfairCipher(text = '', key = ''):\n",
    "    m, d = buildMatrix(key = key)\n",
    "    pairs = splitEntry(text = text)\n",
    "    codedPairs = []\n",
    "    for pair in pairs:\n",
    "        pos1 = d[pair[0]]\n",
    "        pos2 = d[pair[1]]\n",
    "        if pos1[0] == pos2[0]:\n",
    "            l1 = m[(pos1[0]+1)%5,pos1[1]]\n",
    "            l2 = m[(pos2[0]+1)%5,pos2[1]]\n",
    "        elif pos1[1] == pos2[1]:\n",
    "            l1 = m[pos1[0],(pos1[1]+1)%5]\n",
    "            l2 = m[pos2[0],(pos2[1]+1)%5]\n",
    "        else:\n",
    "            l1 = m[pos1[0],pos2[1]]\n",
    "            l2 = m[pos2[0],pos1[1]]\n",
    "        codedPairs.append(l1+l2)\n",
    "    return codedPairs\n"
   ]
  },
  {
   "cell_type": "code",
   "execution_count": 73,
   "metadata": {},
   "outputs": [
    {
     "data": {
      "text/plain": [
       "['NH', 'VO', 'BN', 'UF', 'LT']"
      ]
     },
     "execution_count": 73,
     "metadata": {},
     "output_type": "execute_result"
    }
   ],
   "source": [
    "playfairCipher(text = 'Aguacates', key = 'Yoan Pinzon')"
   ]
  }
 ],
 "metadata": {
  "kernelspec": {
   "display_name": "Python 3",
   "language": "python",
   "name": "python3"
  },
  "language_info": {
   "codemirror_mode": {
    "name": "ipython",
    "version": 3
   },
   "file_extension": ".py",
   "mimetype": "text/x-python",
   "name": "python",
   "nbconvert_exporter": "python",
   "pygments_lexer": "ipython3",
   "version": "3.10.11"
  }
 },
 "nbformat": 4,
 "nbformat_minor": 2
}
