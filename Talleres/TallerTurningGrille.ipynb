{
 "cells": [
  {
   "cell_type": "markdown",
   "metadata": {},
   "source": [
    "# Taller Turning Grill\n",
    "\n",
    "**Estudiante:** Omar David Toledo Leguizamón"
   ]
  },
  {
   "cell_type": "markdown",
   "metadata": {},
   "source": [
    "Implementar el algoritmo de Turning Grille utilizando Python, en donde se reciben los siguientes parámetros:\n",
    "\n",
    "1. Tamaño de la retícula (cuadrada, por ejemplo 2 indica que es de 2x2)\n",
    "2. Dirección de la rotación (sentido de las manecillas del reloj o sentido contrario, por ejemplo 1 ó 0 respectivamente)\n",
    "3. Modo (cifra miento o desciframiento, por ejemplo 1 ó 0 respectivamente)\n",
    "4. Cantidad y distribución de los hoyos (se recomienda ingresar únicamente las celdas de la matriz en la que hay hoyos)\n",
    "5. Mensaje a (de)cifrar"
   ]
  },
  {
   "cell_type": "markdown",
   "metadata": {},
   "source": [
    "## Desarrollo"
   ]
  },
  {
   "cell_type": "markdown",
   "metadata": {},
   "source": [
    "La primera parte, corresponde a recibir la entrada de la grilla y sus dimensiones correspondientes. La información de la grilla se recibe como un arreglo de unos y ceros de tamaño $n^2$ que se transformará en una matriz booleana $n \\times n$ que representará la grilla a rotar"
   ]
  },
  {
   "cell_type": "code",
   "execution_count": 3,
   "metadata": {},
   "outputs": [],
   "source": [
    "import numpy as np\n",
    "\n",
    "def buildMatrix(grill,n):\n",
    "    return  np.array(grill, dtype = bool).reshape((n,n))"
   ]
  },
  {
   "cell_type": "code",
   "execution_count": 18,
   "metadata": {},
   "outputs": [
    {
     "data": {
      "text/plain": [
       "array([[ True, False],\n",
       "       [False, False]])"
      ]
     },
     "execution_count": 18,
     "metadata": {},
     "output_type": "execute_result"
    }
   ],
   "source": [
    "t = [1,0,0,0]\n",
    "n = 2\n",
    "buildMatrix(t,n)"
   ]
  },
  {
   "cell_type": "code",
   "execution_count": 4,
   "metadata": {},
   "outputs": [
    {
     "data": {
      "text/plain": [
       "array([[ True, False, False],\n",
       "       [False, False,  True],\n",
       "       [False,  True, False]])"
      ]
     },
     "execution_count": 4,
     "metadata": {},
     "output_type": "execute_result"
    }
   ],
   "source": [
    "t = [1,0,0,0,0,1,0,1,0]\n",
    "n = 3\n",
    "buildMatrix(t,n)"
   ]
  },
  {
   "cell_type": "markdown",
   "metadata": {},
   "source": [
    "Posteriormente, diseñamos una rutina que dada una entrada, la separe en matrices de tamaño $n \\times n$ que sea utilizado para el proceso de cifrado o descifrado."
   ]
  },
  {
   "cell_type": "code",
   "execution_count": 5,
   "metadata": {},
   "outputs": [],
   "source": [
    "import numpy as np\n",
    "\n",
    "def matrixInput(text,n):\n",
    "    text = text.replace(' ','')\n",
    "    size = n*n\n",
    "    val = len(text)%size\n",
    "    if val>0:\n",
    "        text = text + 'X'*(size-val)\n",
    "    parts = []\n",
    "    for i in range(0,len(text),size):\n",
    "        parts.append(np.array(list(text[i:i+size])).reshape((n,n)))\n",
    "    return parts"
   ]
  },
  {
   "cell_type": "code",
   "execution_count": 6,
   "metadata": {},
   "outputs": [
    {
     "data": {
      "text/plain": [
       "[array([['I', 'B', 'E'],\n",
       "        ['L', 'I', 'E'],\n",
       "        ['V', 'E', 'W']], dtype='<U1'),\n",
       " array([['H', 'A', 'T'],\n",
       "        ['S', 'H', 'O'],\n",
       "        ['U', 'L', 'D']], dtype='<U1'),\n",
       " array([['I', 'D', 'O'],\n",
       "        ['X', 'X', 'X'],\n",
       "        ['X', 'X', 'X']], dtype='<U1')]"
      ]
     },
     "execution_count": 6,
     "metadata": {},
     "output_type": "execute_result"
    }
   ],
   "source": [
    "text = 'I BELIEVE WHAT SHOULD I DO'\n",
    "matrixInput(text,3)"
   ]
  },
  {
   "cell_type": "markdown",
   "metadata": {},
   "source": [
    "Adicionalmente, definimos una rutina que separe une entrada en subcadenas de tamaño $k$"
   ]
  },
  {
   "cell_type": "code",
   "execution_count": 7,
   "metadata": {},
   "outputs": [],
   "source": [
    "def splitInput(text, size):\n",
    "    text = text.replace(' ','')\n",
    "    val = len(text)%size\n",
    "    if val>0:\n",
    "        text = text + 'X'*(size-val)\n",
    "    parts = []\n",
    "    for i in range(0,len(text),size):\n",
    "        parts.append(text[i:i+size])\n",
    "    return parts"
   ]
  },
  {
   "cell_type": "code",
   "execution_count": 8,
   "metadata": {},
   "outputs": [
    {
     "data": {
      "text/plain": [
       "['IBE', 'LIE', 'VEW', 'HAT', 'SHO', 'ULD', 'IDO']"
      ]
     },
     "execution_count": 8,
     "metadata": {},
     "output_type": "execute_result"
    }
   ],
   "source": [
    "text = 'I BELIEVE WHAT SHOULD I DO'\n",
    "splitInput(text,3)"
   ]
  },
  {
   "cell_type": "markdown",
   "metadata": {},
   "source": [
    "Finalmente definimos una rutina que dada la dirección (`0` para ir a favor y `1` para ir en contra de las manecillas del reloj) se encarga de recuperar el mensaje con base a una grilla definida. "
   ]
  },
  {
   "cell_type": "code",
   "execution_count": 9,
   "metadata": {},
   "outputs": [],
   "source": [
    "def encodeGrill(input,grill,dir = 0):\n",
    "    k = 1 if dir==0 else 3\n",
    "    g = grill.copy()\n",
    "    result = np.full(grill.shape, 'X', dtype='<U1')\n",
    "    n = np.sum(grill)\n",
    "    for i in range(4):\n",
    "        t = input[i*n:(i+1)*n]\n",
    "        result[g] = list(t)\n",
    "        g1 = np.rot90(g,k=k)\n",
    "        g = np.logical_and(g1,np.logical_not((np.logical_and(g,g1))))\n",
    "    return ''.join(list(result.reshape(len(grill)**2)))\n",
    "\n",
    "def decodeGrill(input,grill,dir = 0):\n",
    "    output = ''\n",
    "    k = 1 if dir==0 else 3\n",
    "    g = grill.copy()\n",
    "    for _ in range(4):\n",
    "        output += ''.join(list(input[g]))\n",
    "        g1 = np.rot90(g,k=k)\n",
    "        g = np.logical_and(g1,np.logical_not((np.logical_and(g,g1))))\n",
    "    return output\n",
    "\n",
    "def processInput(input,grill,encode = 0,dir=0):\n",
    "    call = encodeGrill if encode == 1 else decodeGrill\n",
    "    s = ''\n",
    "    for d in input:\n",
    "        s+=call(d,grill,dir)\n",
    "    return s"
   ]
  },
  {
   "cell_type": "markdown",
   "metadata": {},
   "source": [
    "Finalmente, unimos estos procesos en funciones de cifrado y descifrado, tomando como punto de partida que la dirección que se defina es la de cifrado."
   ]
  },
  {
   "cell_type": "code",
   "execution_count": 10,
   "metadata": {},
   "outputs": [],
   "source": [
    "def cipherInput(text, grill, dir = 0):\n",
    "    input = splitInput(text,np.sum(grill)*4)\n",
    "    return processInput(input,grill,encode=1,dir = dir)\n",
    "\n",
    "def decipherInput(text, grill, dir = 0):\n",
    "    input = matrixInput(text,len(grill))\n",
    "    return processInput(input,grill,encode=0,dir = dir)"
   ]
  },
  {
   "cell_type": "code",
   "execution_count": 11,
   "metadata": {},
   "outputs": [
    {
     "name": "stdout",
     "output_type": "stream",
     "text": [
      "Original Text:\tI BELIEVE THIS IS WORKING WELL AND I LOVE IT\n",
      "CipherText:\tITIIHSIEWBVEEOLSRLGIALNWOKEILVNDEXXXXXXXXIXTXXXX\n",
      "Recovered Text:\tIBELIEVETHISISWORKINGWELLANDILOVEITXXXXXXXXXXXXX\n"
     ]
    }
   ],
   "source": [
    "t = [1,0,0,0,0,0,0,0,0,1,0,1,0,0,1,0]\n",
    "text = 'I BELIEVE THIS IS WORKING WELL AND I LOVE IT'\n",
    "n = 4\n",
    "dir = 0\n",
    "grill = buildMatrix(t,n)\n",
    "cipherText = cipherInput(text,grill,dir)\n",
    "decipherText = decipherInput(cipherText,grill,dir)\n",
    "print(f'Original Text:\\t{text}')\n",
    "print(f'CipherText:\\t{cipherText}')\n",
    "print(f'Recovered Text:\\t{decipherText}')"
   ]
  },
  {
   "cell_type": "markdown",
   "metadata": {},
   "source": [
    "Finalmente, diseñamos una rutina que reciba el contenido por consola"
   ]
  },
  {
   "cell_type": "code",
   "execution_count": 19,
   "metadata": {},
   "outputs": [],
   "source": [
    "def TurningGrillMain():\n",
    "    print('Inicio de programa de cifrado-descifrado usando Turning Grill\\n')\n",
    "    mode = int(input('Elija el modo de operación (1 para cifrar, 2 para descifrar, 3 para salir): '))\n",
    "    if mode==3: return\n",
    "    n = int(input('Ingresa el tamaño de la grilla (Ej: 2 si es una grilla 2x2): '))\n",
    "    g = map( lambda x : int(x) ,input(f'Ingresa los {n*n} valores de la grilla separados por espacios (1 si hay un hoyo y 0 si no lo hay): ').split(' '))\n",
    "    dir = int(input('Ingresa la dirección de la rotación (0 para ir a favor y 1 para ir en contra de las manecillas del reloj): '))\n",
    "    grill = buildMatrix(list(g),n)\n",
    "    if mode==1:\n",
    "        text = str(input('Ingresa el texto a cifrar: '))\n",
    "        answer = cipherInput(text,grill,dir)\n",
    "        print(f'Texto cifrado: {answer}')\n",
    "    elif mode==2:\n",
    "        text = str(input('Ingresa el texto a descifrar: '))\n",
    "        answer = decipherInput(text,grill,dir)\n",
    "        print(f'Texto descifrado: {answer}')\n",
    "    else:\n",
    "        return\n",
    "    print()\n",
    "    TurningGrillMain()"
   ]
  },
  {
   "cell_type": "code",
   "execution_count": 20,
   "metadata": {},
   "outputs": [
    {
     "name": "stdout",
     "output_type": "stream",
     "text": [
      "Inicio de programa de cifrado-descifrado usando Turning Grill\n",
      "\n",
      "Texto cifrado: HoalcoomesatsXXX\n",
      "\n",
      "Inicio de programa de cifrado-descifrado usando Turning Grill\n",
      "\n"
     ]
    },
    {
     "ename": "ValueError",
     "evalue": "invalid literal for int() with base 10: ''",
     "output_type": "error",
     "traceback": [
      "\u001b[1;31m---------------------------------------------------------------------------\u001b[0m",
      "\u001b[1;31mValueError\u001b[0m                                Traceback (most recent call last)",
      "Cell \u001b[1;32mIn[20], line 1\u001b[0m\n\u001b[1;32m----> 1\u001b[0m \u001b[43mTurningGrillMain\u001b[49m\u001b[43m(\u001b[49m\u001b[43m)\u001b[49m\n",
      "Cell \u001b[1;32mIn[19], line 19\u001b[0m, in \u001b[0;36mTurningGrillMain\u001b[1;34m()\u001b[0m\n\u001b[0;32m     17\u001b[0m     \u001b[38;5;28;01mreturn\u001b[39;00m\n\u001b[0;32m     18\u001b[0m \u001b[38;5;28mprint\u001b[39m()\n\u001b[1;32m---> 19\u001b[0m \u001b[43mTurningGrillMain\u001b[49m\u001b[43m(\u001b[49m\u001b[43m)\u001b[49m\n",
      "Cell \u001b[1;32mIn[19], line 5\u001b[0m, in \u001b[0;36mTurningGrillMain\u001b[1;34m()\u001b[0m\n\u001b[0;32m      3\u001b[0m n \u001b[38;5;241m=\u001b[39m \u001b[38;5;28mint\u001b[39m(\u001b[38;5;28minput\u001b[39m(\u001b[38;5;124m'\u001b[39m\u001b[38;5;124mIngresa el tamaño de la grilla (Ej: 2 si es una grilla 2x2): \u001b[39m\u001b[38;5;124m'\u001b[39m))\n\u001b[0;32m      4\u001b[0m g \u001b[38;5;241m=\u001b[39m \u001b[38;5;28mmap\u001b[39m( \u001b[38;5;28;01mlambda\u001b[39;00m x : \u001b[38;5;28mint\u001b[39m(x) ,\u001b[38;5;28minput\u001b[39m(\u001b[38;5;124mf\u001b[39m\u001b[38;5;124m'\u001b[39m\u001b[38;5;124mIngresa los \u001b[39m\u001b[38;5;132;01m{\u001b[39;00mn\u001b[38;5;241m*\u001b[39mn\u001b[38;5;132;01m}\u001b[39;00m\u001b[38;5;124m valores de la grilla separados por espacios (1 si hay un hoyo y 0 si no lo hay): \u001b[39m\u001b[38;5;124m'\u001b[39m)\u001b[38;5;241m.\u001b[39msplit(\u001b[38;5;124m'\u001b[39m\u001b[38;5;124m \u001b[39m\u001b[38;5;124m'\u001b[39m))\n\u001b[1;32m----> 5\u001b[0m \u001b[38;5;28mdir\u001b[39m \u001b[38;5;241m=\u001b[39m \u001b[38;5;28;43mint\u001b[39;49m\u001b[43m(\u001b[49m\u001b[38;5;28;43minput\u001b[39;49m\u001b[43m(\u001b[49m\u001b[38;5;124;43m'\u001b[39;49m\u001b[38;5;124;43mIngresa la dirección de la rotación (0 para ir a favor y 1 para ir en contra de las manecillas del reloj): \u001b[39;49m\u001b[38;5;124;43m'\u001b[39;49m\u001b[43m)\u001b[49m\u001b[43m)\u001b[49m\n\u001b[0;32m      6\u001b[0m grill \u001b[38;5;241m=\u001b[39m buildMatrix(\u001b[38;5;28mlist\u001b[39m(g),n)\n\u001b[0;32m      7\u001b[0m mode \u001b[38;5;241m=\u001b[39m \u001b[38;5;28mint\u001b[39m(\u001b[38;5;28minput\u001b[39m(\u001b[38;5;124m'\u001b[39m\u001b[38;5;124mElija el modo de operación (1 para cifrar, 2 para descifrar, 3 para salir): \u001b[39m\u001b[38;5;124m'\u001b[39m))\n",
      "\u001b[1;31mValueError\u001b[0m: invalid literal for int() with base 10: ''"
     ]
    }
   ],
   "source": [
    "TurningGrillMain()"
   ]
  }
 ],
 "metadata": {
  "kernelspec": {
   "display_name": "Python 3",
   "language": "python",
   "name": "python3"
  },
  "language_info": {
   "codemirror_mode": {
    "name": "ipython",
    "version": 3
   },
   "file_extension": ".py",
   "mimetype": "text/x-python",
   "name": "python",
   "nbconvert_exporter": "python",
   "pygments_lexer": "ipython3",
   "version": "3.10.11"
  }
 },
 "nbformat": 4,
 "nbformat_minor": 2
}
