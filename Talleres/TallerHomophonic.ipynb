{
 "cells": [
  {
   "cell_type": "markdown",
   "metadata": {},
   "source": [
    "# Taller Homophonic"
   ]
  },
  {
   "cell_type": "markdown",
   "metadata": {},
   "source": [
    "Implementar el algoritmo de cifrado Homofónico en Python (o en el lenguaje de su elección) utilizando para m=100 y n=26. El layout a utilizar será el mismo visto en clase (consulte los slides de la parte 2) o un layout aleatorio en el que no se repitan los números al asignarlos a las letras (tenga en cuenta que si lo hace aleatorio debe ser el mismo layout para cifrar y decifrar). \n",
    "\n",
    "1.  El algoritmo debe recibir como entrada para cifrar:\n",
    "    * El mensaje en texto claro\n",
    "    \n",
    "2. Para decifrar:\n",
    "    * Mensaje cifrado"
   ]
  },
  {
   "cell_type": "markdown",
   "metadata": {},
   "source": [
    "## Desarrollo"
   ]
  },
  {
   "cell_type": "markdown",
   "metadata": {},
   "source": [
    "Para el desarrollo del algoritmo, primero se debe definir el layout con las equivalencias entre el alfabeto de entrada y el del texto cifrado"
   ]
  },
  {
   "cell_type": "code",
   "execution_count": 1,
   "metadata": {},
   "outputs": [],
   "source": [
    "layout = {  'A': [9,12,33,47,53,67,78,92],\n",
    "            'B':[48,81],\n",
    "            'C':[13,41,62],\n",
    "            'D':[1,3,45,79],\n",
    "            'E':[14,16,24,44,46,55,57,64,74,82,87,98], \n",
    "            'F':[10,31],\n",
    "            'G':[6,25],\n",
    "            'H':[23,39,50,56,65,68],\n",
    "            'I':[32,70,73,83,88,93],\n",
    "            'J':[15],\n",
    "            'K':[4],\n",
    "            'L':[26,37,51,84],\n",
    "            'M':[22,27],\n",
    "            'N':[18,58,59,66,71,91],\n",
    "            'O':[0,5,7,54,72,90,99],\n",
    "            'P':[38,95],\n",
    "            'Q':[94],\n",
    "            'R':[29,35,40,42,77,80],\n",
    "            'S':[11,19,36,76,86,96],\n",
    "            'T':[17,20,30,43,49,69,75,85,97],\n",
    "            'U':[8,61,63],\n",
    "            'V':[34],\n",
    "            'W':[60,89],\n",
    "            'X':[28],\n",
    "            'Y':[21,52],\n",
    "            'Z':[2]\n",
    "        }"
   ]
  },
  {
   "cell_type": "markdown",
   "metadata": {},
   "source": [
    "Definimos las funciones de cifrado y descifrado"
   ]
  },
  {
   "cell_type": "code",
   "execution_count": 8,
   "metadata": {},
   "outputs": [],
   "source": [
    "import random as rand\n",
    "\n",
    "def CipherHomphonic(text):\n",
    "  cipherText = \"\"\n",
    "  text= text.replace(' ','')\n",
    "\n",
    "  for i in text:\n",
    "    range = rand.randint(0,len(layout[i])-1)\n",
    "    cipherText= cipherText + str(layout[i][range]) + \"  \"\n",
    "  return cipherText\n",
    "\n",
    "def decipherHomphonic(cipher_message):\n",
    "  decrypted_message = \"\"\n",
    "  encrypted_blocks = cipher_message.split('  ')\n",
    "\n",
    "  for i in encrypted_blocks:\n",
    "    for key in layout:\n",
    "      if int(i) in layout[key]:\n",
    "        decrypted_message = decrypted_message + str(key)+ \" \"\n",
    "        break\n",
    "\n",
    "  return decrypted_message"
   ]
  },
  {
   "cell_type": "markdown",
   "metadata": {},
   "source": [
    "Ahora revisamos el funcionamiento con algunas entradas"
   ]
  },
  {
   "cell_type": "code",
   "execution_count": 9,
   "metadata": {},
   "outputs": [
    {
     "name": "stdout",
     "output_type": "stream",
     "text": [
      "62  29  52  95  49  54  70  86  31  63  66  \n"
     ]
    }
   ],
   "source": [
    "text = \"CRYPTO IS FUN\"\n",
    "cText = CipherHomphonic(text)\n",
    "print(cText)"
   ]
  },
  {
   "cell_type": "markdown",
   "metadata": {},
   "source": [
    "Utilizamos la misma entrada para descifrar"
   ]
  },
  {
   "cell_type": "code",
   "execution_count": 10,
   "metadata": {},
   "outputs": [
    {
     "name": "stdout",
     "output_type": "stream",
     "text": [
      "C R Y P T O I S F U N \n"
     ]
    }
   ],
   "source": [
    "cText = '62  29  52  95  49  54  70  86  31  63  66'\n",
    "text = decipherHomphonic(cText)\n",
    "print(text)"
   ]
  },
  {
   "cell_type": "markdown",
   "metadata": {},
   "source": [
    "Ahora definimos una rutina para que todo el proceso se haga por entradas de consola"
   ]
  },
  {
   "cell_type": "code",
   "execution_count": null,
   "metadata": {},
   "outputs": [],
   "source": [
    "def HomophonicMain():\n",
    "    mode = int(input('Elija el modo de operación (1 para cifrar, 2 para descifrar, 3 para salir): '))\n",
    "    if mode==1:\n",
    "        text = str(input('Ingresa el texto a cifrar: '))\n",
    "        print(CipherHomphonic(text))\n",
    "    if mode==2:\n",
    "        text = str(input('Ingresa el texto a descifrar: '))\n",
    "        print(decipherHomphonic(text))\n",
    "    if mode==3: return\n",
    "    HomophonicMain()"
   ]
  }
 ],
 "metadata": {
  "kernelspec": {
   "display_name": "Python 3",
   "language": "python",
   "name": "python3"
  },
  "language_info": {
   "codemirror_mode": {
    "name": "ipython",
    "version": 3
   },
   "file_extension": ".py",
   "mimetype": "text/x-python",
   "name": "python",
   "nbconvert_exporter": "python",
   "pygments_lexer": "ipython3",
   "version": "3.12.5"
  }
 },
 "nbformat": 4,
 "nbformat_minor": 2
}
