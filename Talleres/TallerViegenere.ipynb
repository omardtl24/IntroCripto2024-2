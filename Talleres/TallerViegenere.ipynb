{
  "cells": [
    {
      "cell_type": "markdown",
      "metadata": {
        "id": "7MSUGEaSwlC5"
      },
      "source": [
        "# Taller Viegenere"
      ]
    },
    {
      "cell_type": "markdown",
      "source": [
        "Implementar el algoritmo de Vigenère en el lenguaje Python teniendo en cuenta lo siguiente:\n",
        "\n",
        "1. El programa debe correr en modo línea de comando\n",
        "2. Ciframiento\n",
        "  * Desde la consola debe recibir la clave, el parámetro t y el mensaje a cifrar\n",
        "  * Como resultado debe generar el texto cifrado\n",
        "3. Decifrafiemto\n",
        "  * Desde la consola debe recibir la clave, el parámetro t y el texto cifrado\n",
        "  * Como resultado debe generar el mensaje en texto claro"
      ],
      "metadata": {
        "id": "RxYc4NvtxmEj"
      }
    },
    {
      "cell_type": "markdown",
      "metadata": {
        "id": "2tpEAlhvwlC6"
      },
      "source": [
        "Definimos un conjunto de rutinas que realicen la particion de la entrada"
      ]
    },
    {
      "cell_type": "code",
      "execution_count": 1,
      "metadata": {
        "id": "iivgE37WwlC6"
      },
      "outputs": [],
      "source": [
        "def splitEntry(text, t=3):\n",
        "    text = text.upper()\n",
        "    if t<=0: return text\n",
        "    text = ''.join(text.split(' '))\n",
        "    r = [text[i:i+t] for i in range(0,len(text),t)]\n",
        "    return r"
      ]
    },
    {
      "cell_type": "code",
      "execution_count": 2,
      "metadata": {
        "id": "4OOcgPgNwlC6",
        "outputId": "114bdec9-43e9-43d6-df64-313b568102e1",
        "colab": {
          "base_uri": "https://localhost:8080/"
        }
      },
      "outputs": [
        {
          "output_type": "execute_result",
          "data": {
            "text/plain": [
              "['LAC', 'IUD', 'ADH', 'ACA', 'IDO']"
            ]
          },
          "metadata": {},
          "execution_count": 2
        }
      ],
      "source": [
        "splitEntry('La ciudad ha caido')"
      ]
    },
    {
      "cell_type": "markdown",
      "metadata": {
        "id": "oqqdCIo_wlC7"
      },
      "source": [
        "Definimos una rutina que codifique y decodifique un caracter en base a una letra de la llave"
      ]
    },
    {
      "cell_type": "code",
      "execution_count": 3,
      "metadata": {
        "id": "-DkVwk0fwlC7"
      },
      "outputs": [],
      "source": [
        "def cipherChar(c,key):\n",
        "    i1 = ord(c)-65\n",
        "    i2 = ord(key)-65\n",
        "\n",
        "    return chr(((i1+i2)%26)+65)\n",
        "\n",
        "def decipherChar(c, key):\n",
        "    i1 = ord(c)-65\n",
        "    i2 = ord(key)-65\n",
        "\n",
        "    return chr(((i1-i2)%26)+65)\n"
      ]
    },
    {
      "cell_type": "markdown",
      "metadata": {
        "id": "bTldEKICwlC7"
      },
      "source": [
        "Probamos el cifrado"
      ]
    },
    {
      "cell_type": "code",
      "execution_count": 4,
      "metadata": {
        "id": "0sxw6BLJwlC7",
        "outputId": "20297c9e-d914-41ff-b025-e238ccefb1d1",
        "colab": {
          "base_uri": "https://localhost:8080/",
          "height": 35
        }
      },
      "outputs": [
        {
          "output_type": "execute_result",
          "data": {
            "text/plain": [
              "'E'"
            ],
            "application/vnd.google.colaboratory.intrinsic+json": {
              "type": "string"
            }
          },
          "metadata": {},
          "execution_count": 4
        }
      ],
      "source": [
        "cipherChar('B', key = 'D')"
      ]
    },
    {
      "cell_type": "markdown",
      "metadata": {
        "id": "PrxUe-A0wlC7"
      },
      "source": [
        "Probamos el descifrado"
      ]
    },
    {
      "cell_type": "code",
      "execution_count": 5,
      "metadata": {
        "id": "My5oHT6swlC7",
        "outputId": "193ddf40-1cb9-4963-a44e-c585a873d846",
        "colab": {
          "base_uri": "https://localhost:8080/",
          "height": 35
        }
      },
      "outputs": [
        {
          "output_type": "execute_result",
          "data": {
            "text/plain": [
              "'B'"
            ],
            "application/vnd.google.colaboratory.intrinsic+json": {
              "type": "string"
            }
          },
          "metadata": {},
          "execution_count": 5
        }
      ],
      "source": [
        "decipherChar('E', key = 'D')"
      ]
    },
    {
      "cell_type": "markdown",
      "metadata": {
        "id": "EahfAS_pwlC7"
      },
      "source": [
        "Definimos una rutina que dada una entrada y una llave, se realice la codificación completa de una cadena"
      ]
    },
    {
      "cell_type": "code",
      "execution_count": 6,
      "metadata": {
        "id": "OW6yyQTkwlC8"
      },
      "outputs": [],
      "source": [
        "def viegenereCipher(entry, key):\n",
        "    if type(entry)==list: entry = ' '.join(entry)\n",
        "    entry = entry.upper()\n",
        "    key = key.upper()\n",
        "    i = 0\n",
        "    cipherText = ''\n",
        "    for char in entry:\n",
        "        if char!=' ':\n",
        "            cipherText += cipherChar(char, key = key[i])\n",
        "            i = (i+1)%len(key)\n",
        "        else: cipherText+=' '\n",
        "    return cipherText"
      ]
    },
    {
      "cell_type": "code",
      "execution_count": 7,
      "metadata": {
        "id": "E8suQRg-wlC8",
        "outputId": "759aa145-0674-4745-aaaf-3b852ab7ec9a",
        "colab": {
          "base_uri": "https://localhost:8080/",
          "height": 35
        }
      },
      "outputs": [
        {
          "output_type": "execute_result",
          "data": {
            "text/plain": [
              "'KSMEH ZBBLS IEHTB WFLYI BUXAH VGE'"
            ],
            "application/vnd.google.colaboratory.intrinsic+json": {
              "type": "string"
            }
          },
          "metadata": {},
          "execution_count": 7
        }
      ],
      "source": [
        "text = \"To be or not be that is the question\"\n",
        "key = \"relations\"\n",
        "text = splitEntry(text,5)\n",
        "viegenereCipher(text,key)"
      ]
    },
    {
      "cell_type": "markdown",
      "metadata": {
        "id": "pru86vcKwlC8"
      },
      "source": [
        "Definimos una rutina que dada una entrada y una llave, se realice la decodificación completa de una cadena"
      ]
    },
    {
      "cell_type": "code",
      "execution_count": 8,
      "metadata": {
        "id": "LL1Tp5TqwlC8"
      },
      "outputs": [],
      "source": [
        "def viegenereDecipher(entry, key):\n",
        "    if type(entry)==list: entry = ' '.join(entry)\n",
        "    entry = entry.upper()\n",
        "    key = key.upper()\n",
        "    i = 0\n",
        "    cipherText = ''\n",
        "    for char in entry:\n",
        "        if char!=' ':\n",
        "            cipherText += decipherChar(char, key = key[i])\n",
        "            i = (i+1)%len(key)\n",
        "        else: cipherText+=' '\n",
        "    return cipherText"
      ]
    },
    {
      "cell_type": "code",
      "execution_count": 9,
      "metadata": {
        "id": "pA5b-TB5wlC8",
        "outputId": "987dbdff-8e0a-4579-f536-6dba5dfd5ba7",
        "colab": {
          "base_uri": "https://localhost:8080/",
          "height": 35
        }
      },
      "outputs": [
        {
          "output_type": "execute_result",
          "data": {
            "text/plain": [
              "'TO BE OR NOT BE THAT IS THE QUESTION'"
            ],
            "application/vnd.google.colaboratory.intrinsic+json": {
              "type": "string"
            }
          },
          "metadata": {},
          "execution_count": 9
        }
      ],
      "source": [
        "cipherText = 'KS ME HZ BBL SI EHTB WF LYI BUXAHVGE'\n",
        "key = \"relations\"\n",
        "viegenereDecipher(cipherText,key)"
      ]
    },
    {
      "cell_type": "markdown",
      "metadata": {
        "id": "aa5-F0LwwlC8"
      },
      "source": [
        "Finalmente, unimos todas las rutinas diseñadas en un unico codigo que maneje todo a través de salida y entrada estandar"
      ]
    },
    {
      "cell_type": "code",
      "execution_count": 12,
      "metadata": {
        "id": "r50Qbo_FwlC8"
      },
      "outputs": [],
      "source": [
        "def viegenereMain():\n",
        "    print('Inicio de programa de cifrado-descifrado usando Viegenere\\n')\n",
        "    mode = int(input('Elija el modo de operación (1 para cifrar, 2 para descifrar, 3 para salir): '))\n",
        "    if mode==1:\n",
        "        text = str(input('Ingresa el texto a cifrar: '))\n",
        "        key = str(input('Ingresa la llave para cifrar: '))\n",
        "        t = int(input('Ingresa el tamaño de la partición: '))\n",
        "        text = splitEntry(text,t)\n",
        "        answer = viegenereCipher(text,key)\n",
        "        print(f'Texto cifrado: {answer}')\n",
        "    elif mode==2:\n",
        "        text = str(input('Ingresa el texto a descifrar: '))\n",
        "        key = str(input('Ingresa la llave para descifrar: '))\n",
        "        t = int(input('Ingresa el tamaño de la partición: '))\n",
        "        text = splitEntry(text,t)\n",
        "        answer = viegenereDecipher(text,key)\n",
        "        print(f'Texto descifrado: {answer}')\n",
        "    else:\n",
        "        return\n",
        "    print()\n",
        "    viegenereMain()"
      ]
    },
    {
      "cell_type": "code",
      "execution_count": 13,
      "metadata": {
        "id": "B-SM0aFqwlC9",
        "outputId": "63dcb0ac-99d2-4089-e04d-ffd5410842a9",
        "colab": {
          "base_uri": "https://localhost:8080/"
        }
      },
      "outputs": [
        {
          "name": "stdout",
          "output_type": "stream",
          "text": [
            "Inicio de programa de cifrado-descifrado usando Viegenere\n",
            "\n",
            "Elija el modo de operación (1 para cifrar, 2 para descifrar, 3 para salir): 1\n",
            "Ingresa el texto a cifrar: To be or not be that is the question\n",
            "Ingresa la llave para cifrar: relations\n",
            "Ingresa el tamaño de la partición: 5\n",
            "Texto cifrado: KSMEH ZBBLS IEHTB WFLYI BUXAH VGE\n",
            "\n",
            "Inicio de programa de cifrado-descifrado usando Viegenere\n",
            "\n",
            "Elija el modo de operación (1 para cifrar, 2 para descifrar, 3 para salir): 2\n",
            "Ingresa el texto a descifrar: KSMEH ZBBLS IEHTB WFLYI BUXAH VGE\n",
            "Ingresa la llave para descifrar: relations\n",
            "Ingresa el tamaño de la partición: 5\n",
            "Texto descifrado: TOBEO RNOTB ETHAT ISTHE QUEST ION\n",
            "\n",
            "Inicio de programa de cifrado-descifrado usando Viegenere\n",
            "\n",
            "Elija el modo de operación (1 para cifrar, 2 para descifrar, 3 para salir): 3\n"
          ]
        }
      ],
      "source": [
        "viegenereMain()"
      ]
    }
  ],
  "metadata": {
    "kernelspec": {
      "display_name": "Python 3",
      "language": "python",
      "name": "python3"
    },
    "language_info": {
      "codemirror_mode": {
        "name": "ipython",
        "version": 3
      },
      "file_extension": ".py",
      "mimetype": "text/x-python",
      "name": "python",
      "nbconvert_exporter": "python",
      "pygments_lexer": "ipython3",
      "version": "3.10.11"
    },
    "colab": {
      "provenance": []
    }
  },
  "nbformat": 4,
  "nbformat_minor": 0
}