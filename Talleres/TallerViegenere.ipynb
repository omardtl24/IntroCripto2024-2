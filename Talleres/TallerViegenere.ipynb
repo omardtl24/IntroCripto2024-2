{
 "cells": [
  {
   "cell_type": "markdown",
   "metadata": {},
   "source": [
    "# Taller Viegenere"
   ]
  },
  {
   "cell_type": "markdown",
   "metadata": {},
   "source": [
    "Definimos un conjunto de rutinas que realicen la particion de la entrada"
   ]
  },
  {
   "cell_type": "code",
   "execution_count": 18,
   "metadata": {},
   "outputs": [],
   "source": [
    "def splitEntry(text, t=3):\n",
    "    text = text.upper()\n",
    "    text = ''.join(text.split(' '))\n",
    "    r = [text[i:i+t] for i in range(0,len(text),t)]\n",
    "    return r"
   ]
  },
  {
   "cell_type": "code",
   "execution_count": 22,
   "metadata": {},
   "outputs": [
    {
     "data": {
      "text/plain": [
       "['LAC', 'IUD', 'ADH', 'ACA', 'IDO']"
      ]
     },
     "execution_count": 22,
     "metadata": {},
     "output_type": "execute_result"
    }
   ],
   "source": [
    "splitEntry('La ciudad ha caido')"
   ]
  },
  {
   "cell_type": "markdown",
   "metadata": {},
   "source": [
    "Definimos una rutina que codifique y decodifique un caracter en base a una letra de la llave"
   ]
  },
  {
   "cell_type": "code",
   "execution_count": 14,
   "metadata": {},
   "outputs": [],
   "source": [
    "def cipherChar(c,key):\n",
    "    i1 = ord(c)-65\n",
    "    i2 = ord(key)-65\n",
    "\n",
    "    return chr(((i1+i2)%26)+65)\n",
    "\n",
    "def decipherChar(c, key):\n",
    "    i1 = ord(c)-65\n",
    "    i2 = ord(key)-65\n",
    "\n",
    "    return chr(((i1-i2)%26)+65)\n"
   ]
  },
  {
   "cell_type": "markdown",
   "metadata": {},
   "source": [
    "Probamos el cifrado"
   ]
  },
  {
   "cell_type": "code",
   "execution_count": 15,
   "metadata": {},
   "outputs": [
    {
     "data": {
      "text/plain": [
       "'E'"
      ]
     },
     "execution_count": 15,
     "metadata": {},
     "output_type": "execute_result"
    }
   ],
   "source": [
    "cipherChar('B', key = 'D')"
   ]
  },
  {
   "cell_type": "markdown",
   "metadata": {},
   "source": [
    "Probamos el descifrado"
   ]
  },
  {
   "cell_type": "code",
   "execution_count": 16,
   "metadata": {},
   "outputs": [
    {
     "data": {
      "text/plain": [
       "'B'"
      ]
     },
     "execution_count": 16,
     "metadata": {},
     "output_type": "execute_result"
    }
   ],
   "source": [
    "decipherChar('E', key = 'D')"
   ]
  },
  {
   "cell_type": "markdown",
   "metadata": {},
   "source": [
    "Definimos una rutina que dada una entrada y una llave, se realice la codificación completa de una cadena"
   ]
  },
  {
   "cell_type": "code",
   "execution_count": 24,
   "metadata": {},
   "outputs": [],
   "source": [
    "def viegenereCipher(entry, key):\n",
    "    if type(entry)==list: entry = ' '.join(entry)\n",
    "    i = 0\n",
    "    cipherText = ''\n",
    "    for char in entry:\n",
    "        if char!=' ':\n",
    "            cipherText += cipherChar(char, key = key[i])\n",
    "            i = (i+1)%len(key)\n",
    "        else: cipherText+=' '\n",
    "    return cipherText"
   ]
  }
 ],
 "metadata": {
  "kernelspec": {
   "display_name": "Python 3",
   "language": "python",
   "name": "python3"
  },
  "language_info": {
   "codemirror_mode": {
    "name": "ipython",
    "version": 3
   },
   "file_extension": ".py",
   "mimetype": "text/x-python",
   "name": "python",
   "nbconvert_exporter": "python",
   "pygments_lexer": "ipython3",
   "version": "3.10.11"
  }
 },
 "nbformat": 4,
 "nbformat_minor": 2
}
