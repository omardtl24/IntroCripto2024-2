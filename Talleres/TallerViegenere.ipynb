{
 "cells": [
  {
   "cell_type": "markdown",
   "metadata": {},
   "source": [
    "# Taller Viegenere"
   ]
  },
  {
   "cell_type": "markdown",
   "metadata": {},
   "source": [
    "Definimos un conjunto de rutinas que realicen la particion de la entrada"
   ]
  },
  {
   "cell_type": "code",
   "execution_count": 29,
   "metadata": {},
   "outputs": [],
   "source": [
    "def splitEntry(text, t=3):\n",
    "    text = text.upper()\n",
    "    if t<=0: return text\n",
    "    text = ''.join(text.split(' '))\n",
    "    r = [text[i:i+t] for i in range(0,len(text),t)]\n",
    "    return r"
   ]
  },
  {
   "cell_type": "code",
   "execution_count": 30,
   "metadata": {},
   "outputs": [
    {
     "data": {
      "text/plain": [
       "['LAC', 'IUD', 'ADH', 'ACA', 'IDO']"
      ]
     },
     "execution_count": 30,
     "metadata": {},
     "output_type": "execute_result"
    }
   ],
   "source": [
    "splitEntry('La ciudad ha caido')"
   ]
  },
  {
   "cell_type": "markdown",
   "metadata": {},
   "source": [
    "Definimos una rutina que codifique y decodifique un caracter en base a una letra de la llave"
   ]
  },
  {
   "cell_type": "code",
   "execution_count": 31,
   "metadata": {},
   "outputs": [],
   "source": [
    "def cipherChar(c,key):\n",
    "    i1 = ord(c)-65\n",
    "    i2 = ord(key)-65\n",
    "\n",
    "    return chr(((i1+i2)%26)+65)\n",
    "\n",
    "def decipherChar(c, key):\n",
    "    i1 = ord(c)-65\n",
    "    i2 = ord(key)-65\n",
    "\n",
    "    return chr(((i1-i2)%26)+65)\n"
   ]
  },
  {
   "cell_type": "markdown",
   "metadata": {},
   "source": [
    "Probamos el cifrado"
   ]
  },
  {
   "cell_type": "code",
   "execution_count": 32,
   "metadata": {},
   "outputs": [
    {
     "data": {
      "text/plain": [
       "'E'"
      ]
     },
     "execution_count": 32,
     "metadata": {},
     "output_type": "execute_result"
    }
   ],
   "source": [
    "cipherChar('B', key = 'D')"
   ]
  },
  {
   "cell_type": "markdown",
   "metadata": {},
   "source": [
    "Probamos el descifrado"
   ]
  },
  {
   "cell_type": "code",
   "execution_count": 33,
   "metadata": {},
   "outputs": [
    {
     "data": {
      "text/plain": [
       "'B'"
      ]
     },
     "execution_count": 33,
     "metadata": {},
     "output_type": "execute_result"
    }
   ],
   "source": [
    "decipherChar('E', key = 'D')"
   ]
  },
  {
   "cell_type": "markdown",
   "metadata": {},
   "source": [
    "Definimos una rutina que dada una entrada y una llave, se realice la codificación completa de una cadena"
   ]
  },
  {
   "cell_type": "code",
   "execution_count": 34,
   "metadata": {},
   "outputs": [],
   "source": [
    "def viegenereCipher(entry, key):\n",
    "    if type(entry)==list: entry = ' '.join(entry)\n",
    "    entry = entry.upper()\n",
    "    key = key.upper()\n",
    "    i = 0\n",
    "    cipherText = ''\n",
    "    for char in entry:\n",
    "        if char!=' ':\n",
    "            cipherText += cipherChar(char, key = key[i])\n",
    "            i = (i+1)%len(key)\n",
    "        else: cipherText+=' '\n",
    "    return cipherText"
   ]
  },
  {
   "cell_type": "code",
   "execution_count": 38,
   "metadata": {},
   "outputs": [
    {
     "data": {
      "text/plain": [
       "'KSMEH ZBBLS IEHTB WFLYI BUXAH VGE'"
      ]
     },
     "execution_count": 38,
     "metadata": {},
     "output_type": "execute_result"
    }
   ],
   "source": [
    "text = \"To be or not be that is the question\"\n",
    "key = \"relations\"\n",
    "text = splitEntry(text,5)\n",
    "viegenereCipher(text,key)"
   ]
  },
  {
   "cell_type": "markdown",
   "metadata": {},
   "source": [
    "Definimos una rutina que dada una entrada y una llave, se realice la decodificación completa de una cadena"
   ]
  },
  {
   "cell_type": "code",
   "execution_count": 39,
   "metadata": {},
   "outputs": [],
   "source": [
    "def viegenereDecipher(entry, key):\n",
    "    if type(entry)==list: entry = ' '.join(entry)\n",
    "    entry = entry.upper()\n",
    "    key = key.upper()\n",
    "    i = 0\n",
    "    cipherText = ''\n",
    "    for char in entry:\n",
    "        if char!=' ':\n",
    "            cipherText += decipherChar(char, key = key[i])\n",
    "            i = (i+1)%len(key)\n",
    "        else: cipherText+=' '\n",
    "    return cipherText"
   ]
  },
  {
   "cell_type": "code",
   "execution_count": 62,
   "metadata": {},
   "outputs": [
    {
     "data": {
      "text/plain": [
       "'TO BE OR NOT BE THAT IS THE QUESTION'"
      ]
     },
     "execution_count": 62,
     "metadata": {},
     "output_type": "execute_result"
    }
   ],
   "source": [
    "cipherText = 'KS ME HZ BBL SI EHTB WF LYI BUXAHVGE'\n",
    "key = \"relations\"\n",
    "viegenereDecipher(cipherText,key)"
   ]
  },
  {
   "cell_type": "markdown",
   "metadata": {},
   "source": [
    "Finalmente, unimos todas las rutinas diseñadas en un unico codigo que maneje todo a través de salida y entrada estandar"
   ]
  },
  {
   "cell_type": "code",
   "execution_count": 63,
   "metadata": {},
   "outputs": [],
   "source": [
    "def viegenereMain():\n",
    "    print('Inicio de programa de cifrado-descifrado usando Playfair\\n')\n",
    "    mode = int(input('Elija el modo de operación (1 para cifrar, 2 para descifrar, 3 para salir): '))\n",
    "    if mode==1:\n",
    "        text = str(input('Ingresa el texto a cifrar: '))\n",
    "        key = str(input('Ingresa la llave para cifrar: '))\n",
    "        t = int(input('Ingresa el tamaño de la partición: '))\n",
    "        text = splitEntry(text,t)\n",
    "        answer = viegenereCipher(text,key)\n",
    "        print(f'Texto cifrado: {answer}')\n",
    "    elif mode==2:\n",
    "        text = str(input('Ingresa el texto a descifrar: '))\n",
    "        key = str(input('Ingresa la llave para descifrar: '))\n",
    "        t = int(input('Ingresa el tamaño de la partición: '))\n",
    "        text = splitEntry(text,t)\n",
    "        answer = viegenereDecipher(text,key)\n",
    "        print(f'Texto descifrado: {answer}')\n",
    "    else:\n",
    "        return\n",
    "    print()\n",
    "    viegenereMain()"
   ]
  },
  {
   "cell_type": "code",
   "execution_count": null,
   "metadata": {},
   "outputs": [],
   "source": [
    "viegenereMain()"
   ]
  }
 ],
 "metadata": {
  "kernelspec": {
   "display_name": "Python 3",
   "language": "python",
   "name": "python3"
  },
  "language_info": {
   "codemirror_mode": {
    "name": "ipython",
    "version": 3
   },
   "file_extension": ".py",
   "mimetype": "text/x-python",
   "name": "python",
   "nbconvert_exporter": "python",
   "pygments_lexer": "ipython3",
   "version": "3.10.11"
  }
 },
 "nbformat": 4,
 "nbformat_minor": 2
}
